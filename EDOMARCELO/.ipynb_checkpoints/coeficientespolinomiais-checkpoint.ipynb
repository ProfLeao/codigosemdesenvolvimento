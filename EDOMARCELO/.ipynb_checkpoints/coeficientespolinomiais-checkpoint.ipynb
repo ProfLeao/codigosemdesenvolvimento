{
 "cells": [
  {
   "cell_type": "markdown",
   "metadata": {},
   "source": [
    "# Uso das funções de determinação dos coeficientes polinomiais\n",
    "\n",
    "Este notebook apresenta as formas de uso e teste das funções de determinação dos coeficientes polinomiais.\n",
    "Testes automatizados simples são implementados para verificação das funcionalidades."
   ]
  },
  {
   "cell_type": "markdown",
   "metadata": {},
   "source": [
    "A célula de código abaixo realiza a importação das bibliotecas necessárias."
   ]
  },
  {
   "cell_type": "code",
   "execution_count": 1,
   "metadata": {},
   "outputs": [],
   "source": [
    "import marcelo_solver.coef_pol as mcp\n",
    "import marcelo_solver.testes as mtt\n",
    "import matplotlib.pyplot as plt # Para plotagem de gráficos\n",
    "import numpy as np # Para métodos algébricos"
   ]
  },
  {
   "cell_type": "markdown",
   "metadata": {},
   "source": [
    "O módulo `coef_pol` do pacote `marcelo_solver` possui as funções para determinação dos coeficientes polinomiais, o módulo `testes` do mesmo pacote implementa testes automatizados simples para as funções de `coef_pol`.\n",
    "\n",
    "Para a função `cfcond_termica` que determina os coeficientes de condutividade térmica, a documentação pode ser consultada da seguinte forma:"
   ]
  },
  {
   "cell_type": "code",
   "execution_count": 2,
   "metadata": {},
   "outputs": [
    {
     "name": "stdout",
     "output_type": "stream",
     "text": [
      "Help on function cfcond_termica in module marcelo_solver.coef_pol:\n",
      "\n",
      "cfcond_termica(temp, unid='K', temps_inf_interval=[293.15, 1073.15], temps_sup_interval=[1073.15, 1788.15])\n",
      "    Determina o coeficiente de condutividade térmica para temperaturas \n",
      "    ou vetores de temperaturas.\n",
      "    \n",
      "    Recebe:\n",
      "    · temp(float ou ndarray) - temperaturas de cálculo. \n",
      "    · [unid(str)] - caractere 'K' ou 'C' para determinar a unidade de \n",
      "    temperatura \n",
      "    · [temps_inf_interval(list)] - lista de dois elementos com as \n",
      "    temperaturas inferior e superior para os polinômios de condutividade \n",
      "    térmica.\n",
      "    · [temps_sup_interval(list)] - lista de dois elementos com as \n",
      "    temperaturas inferior e superior para os polinômios de condutividade \n",
      "    térmica. \n",
      "    \n",
      "    Retorna:\n",
      "    · ndarray ou float  de condutividades térmicas em W/m.K\n",
      "\n"
     ]
    }
   ],
   "source": [
    "help(mcp.cfcond_termica)"
   ]
  },
  {
   "cell_type": "markdown",
   "metadata": {},
   "source": [
    "A documentação de `testes` pode ser consultada de forma semelhante. No código abaixo a função de teste da condutividade térmica é consultada."
   ]
  },
  {
   "cell_type": "code",
   "execution_count": 3,
   "metadata": {},
   "outputs": [
    {
     "name": "stdout",
     "output_type": "stream",
     "text": [
      "Help on function teste_condterm in module marcelo_solver.testes:\n",
      "\n",
      "teste_condterm(teste)\n",
      "    Realiza testes de funcionamento na função de determinação da função de \n",
      "    cálculo do coeficiente de condutividade térmica.\n",
      "    \n",
      "    1° - Teste de operação sobre vetor de temperaturas válidas:\n",
      "    Recebe:\n",
      "    teste = \"VECTEMP-VAL\"\n",
      "        Este método cria um vetor no intervalo de temperaturas válido para\n",
      "        para o modelo de coeficiente de condutividade térmica.\n",
      "        Espera-se o cálculo correto dos valores de h expressos de forma gráfica.\n",
      "    \n",
      "    2° - Teste de operação sobre vetor de temperaturas com valores inválidos:\n",
      "    teste = \"VECTEMP-INVAL\"\n",
      "        Este método cria um vetor com valores fora do intervalo de \n",
      "        temperaturas válido para para o modelo de coeficiente de \n",
      "        condutividade térmica.\n",
      "        Espera-se o levantamento de erro durante a tentativa de execuação.\n",
      "    \n",
      "    3° - Teste de operação sobre escalares randômicos válidos:\n",
      "    teste = \"RANDTEMP-VAL\"\n",
      "        Neste método de teste, um gerador de números aleatórios é \n",
      "        recorrentemente chamado para gerar N valores no intervalo de \n",
      "        operação da função.\n",
      "        Espera-se o cálculo correto dos valores de h expressos de forma gráfica.\n",
      "\n"
     ]
    }
   ],
   "source": [
    "help(mtt.teste_condterm)"
   ]
  },
  {
   "cell_type": "markdown",
   "metadata": {},
   "source": [
    "O conjunto de funções disponíveis em cada módulo pode ser listado da seguinte forma:"
   ]
  },
  {
   "cell_type": "code",
   "execution_count": 4,
   "metadata": {},
   "outputs": [
    {
     "name": "stdout",
     "output_type": "stream",
     "text": [
      "['__builtins__', '__cached__', '__doc__', '__file__', '__loader__', '__name__', '__package__', '__spec__', 'calesp_vol', 'cfcond_termica', 'np']\n",
      "['__builtins__', '__cached__', '__doc__', '__file__', '__loader__', '__name__', '__package__', '__spec__', 'calesp_vol', 'cfcond_termica', 'np', 'plt', 'teste_condterm']\n"
     ]
    }
   ],
   "source": [
    "print(dir(mcp))\n",
    "print(dir(mtt))\n"
   ]
  },
  {
   "cell_type": "markdown",
   "metadata": {},
   "source": [
    "## Uso da função `cfcond_termica`\n",
    "\n",
    "Duas formas de uso são possíveis; na primeira delas escalares com valores de temperatura são passados para a função e um escalar com o valor do coeficiente é retornado."
   ]
  },
  {
   "cell_type": "code",
   "execution_count": 5,
   "metadata": {},
   "outputs": [
    {
     "data": {
      "text/plain": [
       "53.105895"
      ]
     },
     "execution_count": 5,
     "metadata": {},
     "output_type": "execute_result"
    }
   ],
   "source": [
    "mcp.cfcond_termica(300) # Temperatura 300K"
   ]
  },
  {
   "cell_type": "markdown",
   "metadata": {},
   "source": [
    "Opcionalmente o usuário pode optar por passar o valor de temperatura em °C."
   ]
  },
  {
   "cell_type": "code",
   "execution_count": 6,
   "metadata": {},
   "outputs": [
    {
     "data": {
      "text/plain": [
       "53.105895"
      ]
     },
     "execution_count": 6,
     "metadata": {},
     "output_type": "execute_result"
    }
   ],
   "source": [
    "mcp.cfcond_termica(26.85, 'C') # Temperatura 26,85 °C"
   ]
  },
  {
   "cell_type": "markdown",
   "metadata": {},
   "source": [
    "O intervalo de validade do modelo do coeficiente de condutividade térmica também pode ser modificado pelos parâmetros `temps_inf_interval`, e `temps_sup_interval`. Neste tipo de uso, a chamada à função fica na forma:"
   ]
  },
  {
   "cell_type": "code",
   "execution_count": 7,
   "metadata": {},
   "outputs": [
    {
     "data": {
      "text/plain": [
       "53.334"
      ]
     },
     "execution_count": 7,
     "metadata": {},
     "output_type": "execute_result"
    }
   ],
   "source": [
    "mcp.cfcond_termica(\n",
    "    20, 'C', \n",
    "    temps_inf_interval = [14,30]\n",
    ")"
   ]
  },
  {
   "cell_type": "code",
   "execution_count": 8,
   "metadata": {},
   "outputs": [
    {
     "ename": "ValueError",
     "evalue": "ERRO!\nA temperatura 286.15 não é definida no intervalo detemperaturas do modelo:\n[287.15 303.15]\n[1073.15 1788.15]",
     "output_type": "error",
     "traceback": [
      "\u001b[0;31m---------------------------------------------------------------------------\u001b[0m",
      "\u001b[0;31mValueError\u001b[0m                                Traceback (most recent call last)",
      "\u001b[0;32m/tmp/ipykernel_46557/1367357235.py\u001b[0m in \u001b[0;36m<module>\u001b[0;34m\u001b[0m\n\u001b[0;32m----> 1\u001b[0;31m mcp.cfcond_termica(\n\u001b[0m\u001b[1;32m      2\u001b[0m     \u001b[0;36m13\u001b[0m\u001b[0;34m,\u001b[0m \u001b[0;34m'C'\u001b[0m\u001b[0;34m,\u001b[0m\u001b[0;34m\u001b[0m\u001b[0;34m\u001b[0m\u001b[0m\n\u001b[1;32m      3\u001b[0m     \u001b[0mtemps_inf_interval\u001b[0m \u001b[0;34m=\u001b[0m \u001b[0;34m[\u001b[0m\u001b[0;36m14\u001b[0m\u001b[0;34m,\u001b[0m\u001b[0;36m30\u001b[0m\u001b[0;34m]\u001b[0m\u001b[0;34m\u001b[0m\u001b[0;34m\u001b[0m\u001b[0m\n\u001b[1;32m      4\u001b[0m )\n",
      "\u001b[0;32m~/Insync/Trabalho/IFMG/IFMG_ARCOS/codigosemdesenvolvimento/EDOMARCELO/marcelo_solver/coef_pol.py\u001b[0m in \u001b[0;36mcfcond_termica\u001b[0;34m(temp, unid, temps_inf_interval, temps_sup_interval)\u001b[0m\n\u001b[1;32m    115\u001b[0m             \u001b[0mcoef_k\u001b[0m \u001b[0;34m=\u001b[0m \u001b[0;36m27.3\u001b[0m\u001b[0;34m\u001b[0m\u001b[0;34m\u001b[0m\u001b[0m\n\u001b[1;32m    116\u001b[0m         \u001b[0;32melse\u001b[0m\u001b[0;34m:\u001b[0m\u001b[0;34m\u001b[0m\u001b[0;34m\u001b[0m\u001b[0m\n\u001b[0;32m--> 117\u001b[0;31m             raise ValueError(\n\u001b[0m\u001b[1;32m    118\u001b[0m                 \u001b[0;34m\"ERRO!\\n\"\u001b[0m\u001b[0;34m+\u001b[0m\u001b[0;31m\\\u001b[0m\u001b[0;34m\u001b[0m\u001b[0;34m\u001b[0m\u001b[0m\n\u001b[1;32m    119\u001b[0m                 \u001b[0;34mf\"A temperatura {temp} não é definida no intervalo de\"\u001b[0m\u001b[0;34m+\u001b[0m\u001b[0;31m\\\u001b[0m\u001b[0;34m\u001b[0m\u001b[0;34m\u001b[0m\u001b[0m\n",
      "\u001b[0;31mValueError\u001b[0m: ERRO!\nA temperatura 286.15 não é definida no intervalo detemperaturas do modelo:\n[287.15 303.15]\n[1073.15 1788.15]"
     ]
    }
   ],
   "source": [
    "mcp.cfcond_termica(\n",
    "    13, 'C', \n",
    "    temps_inf_interval = [14,30]\n",
    ")"
   ]
  },
  {
   "cell_type": "code",
   "execution_count": 9,
   "metadata": {},
   "outputs": [
    {
     "data": {
      "text/plain": [
       "27.3"
      ]
     },
     "execution_count": 9,
     "metadata": {},
     "output_type": "execute_result"
    }
   ],
   "source": [
    "mcp.cfcond_termica(\n",
    "    1999, 'C', \n",
    "    temps_sup_interval = [900,2000]\n",
    ")"
   ]
  },
  {
   "cell_type": "markdown",
   "metadata": {},
   "source": [
    "A segunda forma de uso da função recebe como primeiro argumento um vetor de temperaturas em K ou °C, sendo a primeira unidade o parâmetro padrão. Quando um vetor é passado, a função retorna um *array* de duas linhas, na primeira delas, um vetor com as temperaturas para cálculo, e na segunda os coenficientes calculados.\n",
    "\n",
    "Isto é necessário pois a implementação atual do método realiza a filtragem automática dos valores válidos de temperatura quando valores inválidos são passados, truncando o intervalo original de temperatura apenas para um intervalo válido."
   ]
  },
  {
   "cell_type": "code",
   "execution_count": 10,
   "metadata": {},
   "outputs": [
    {
     "name": "stdout",
     "output_type": "stream",
     "text": [
      "Temperaturas (K):\n",
      " [310.15 311.15 312.15 313.15 314.15 315.15 316.15 317.15 318.15 319.15\n",
      " 320.15 321.15 322.15 323.15 324.15 325.15 326.15 327.15 328.15 329.15\n",
      " 330.15 331.15 332.15 333.15 334.15 335.15 336.15 337.15 338.15 339.15\n",
      " 340.15 341.15 342.15 343.15 344.15 345.15 346.15 347.15 348.15 349.15\n",
      " 350.15 351.15 352.15 353.15 354.15 355.15 356.15 357.15 358.15 359.15\n",
      " 360.15 361.15 362.15 363.15 364.15 365.15 366.15 367.15 368.15 369.15\n",
      " 370.15 371.15 372.15 373.15 374.15 375.15 376.15 377.15 378.15 379.15\n",
      " 380.15 381.15 382.15 383.15 384.15 385.15 386.15 387.15 388.15 389.15\n",
      " 390.15 391.15 392.15 393.15 394.15 395.15 396.15 397.15 398.15 399.15\n",
      " 400.15 401.15 402.15 403.15 404.15 405.15 406.15 407.15 408.15 409.15\n",
      " 410.15 411.15 412.15 413.15 414.15 415.15 416.15 417.15 418.15 419.15\n",
      " 420.15 421.15 422.15 423.15 424.15 425.15 426.15 427.15 428.15 429.15\n",
      " 430.15 431.15 432.15 433.15 434.15 435.15 436.15 437.15 438.15 439.15\n",
      " 440.15 441.15 442.15 443.15 444.15 445.15 446.15 447.15 448.15 449.15\n",
      " 450.15 451.15 452.15 453.15 454.15 455.15 456.15 457.15 458.15 459.15\n",
      " 460.15 461.15 462.15 463.15 464.15 465.15 466.15 467.15 468.15 469.15\n",
      " 470.15 471.15 472.15 473.15 474.15 475.15 476.15 477.15 478.15 479.15\n",
      " 480.15 481.15 482.15 483.15 484.15 485.15 486.15 487.15 488.15 489.15\n",
      " 490.15 491.15 492.15 493.15 494.15 495.15 496.15 497.15 498.15 499.15\n",
      " 500.15 501.15 502.15 503.15 504.15 505.15 506.15 507.15 508.15 509.15\n",
      " 510.15 511.15 512.15 513.15 514.15 515.15 516.15 517.15 518.15 519.15\n",
      " 520.15 521.15 522.15 523.15 524.15 525.15 526.15 527.15 528.15 529.15\n",
      " 530.15 531.15 532.15 533.15 534.15 535.15 536.15 537.15 538.15 539.15\n",
      " 540.15 541.15 542.15 543.15 544.15 545.15 546.15 547.15 548.15 549.15\n",
      " 550.15 551.15 552.15 553.15 554.15 555.15 556.15 557.15 558.15 559.15\n",
      " 560.15 561.15 562.15 563.15 564.15 565.15 566.15 567.15 568.15 569.15\n",
      " 570.15 571.15 572.15 573.15 574.15 575.15 576.15 577.15 578.15 579.15\n",
      " 580.15 581.15 582.15 583.15 584.15 585.15 586.15 587.15 588.15 589.15\n",
      " 590.15 591.15 592.15 593.15 594.15 595.15 596.15 597.15 598.15 599.15\n",
      " 600.15 601.15 602.15 603.15 604.15 605.15 606.15 607.15 608.15 609.15\n",
      " 610.15 611.15 612.15 613.15 614.15 615.15 616.15 617.15 618.15 619.15\n",
      " 620.15 621.15 622.15 623.15 624.15 625.15 626.15 627.15 628.15 629.15\n",
      " 630.15 631.15 632.15 633.15 634.15 635.15 636.15 637.15 638.15 639.15\n",
      " 640.15 641.15 642.15 643.15 644.15 645.15 646.15 647.15 648.15 649.15\n",
      " 650.15 651.15 652.15 653.15 654.15 655.15 656.15 657.15 658.15 659.15\n",
      " 660.15 661.15 662.15 663.15 664.15 665.15 666.15 667.15 668.15 669.15\n",
      " 670.15 671.15 672.15 673.15 674.15 675.15 676.15 677.15 678.15 679.15\n",
      " 680.15 681.15 682.15 683.15 684.15 685.15 686.15 687.15 688.15 689.15\n",
      " 690.15 691.15 692.15 693.15 694.15 695.15 696.15 697.15 698.15 699.15\n",
      " 700.15 701.15 702.15 703.15 704.15 705.15 706.15 707.15 708.15 709.15\n",
      " 710.15 711.15 712.15 713.15 714.15 715.15 716.15 717.15 718.15 719.15\n",
      " 720.15 721.15 722.15 723.15 724.15 725.15 726.15 727.15 728.15 729.15\n",
      " 730.15 731.15 732.15 733.15 734.15 735.15 736.15 737.15 738.15 739.15\n",
      " 740.15 741.15 742.15 743.15 744.15 745.15 746.15 747.15 748.15 749.15\n",
      " 750.15 751.15 752.15 753.15 754.15 755.15 756.15 757.15 758.15 759.15\n",
      " 760.15 761.15 762.15 763.15 764.15 765.15 766.15 767.15 768.15 769.15\n",
      " 770.15 771.15 772.15]\n"
     ]
    }
   ],
   "source": [
    "matriz = mcp.cfcond_termica(np.arange(37.,500.), 'c')\n",
    "print(\"Temperaturas (K):\\n\", matriz[0])"
   ]
  },
  {
   "cell_type": "code",
   "execution_count": 11,
   "metadata": {},
   "outputs": [
    {
     "name": "stdout",
     "output_type": "stream",
     "text": [
      "Coeficientes:\n",
      " [310.15 311.15 312.15 313.15 314.15 315.15 316.15 317.15 318.15 319.15\n",
      " 320.15 321.15 322.15 323.15 324.15 325.15 326.15 327.15 328.15 329.15\n",
      " 330.15 331.15 332.15 333.15 334.15 335.15 336.15 337.15 338.15 339.15\n",
      " 340.15 341.15 342.15 343.15 344.15 345.15 346.15 347.15 348.15 349.15\n",
      " 350.15 351.15 352.15 353.15 354.15 355.15 356.15 357.15 358.15 359.15\n",
      " 360.15 361.15 362.15 363.15 364.15 365.15 366.15 367.15 368.15 369.15\n",
      " 370.15 371.15 372.15 373.15 374.15 375.15 376.15 377.15 378.15 379.15\n",
      " 380.15 381.15 382.15 383.15 384.15 385.15 386.15 387.15 388.15 389.15\n",
      " 390.15 391.15 392.15 393.15 394.15 395.15 396.15 397.15 398.15 399.15\n",
      " 400.15 401.15 402.15 403.15 404.15 405.15 406.15 407.15 408.15 409.15\n",
      " 410.15 411.15 412.15 413.15 414.15 415.15 416.15 417.15 418.15 419.15\n",
      " 420.15 421.15 422.15 423.15 424.15 425.15 426.15 427.15 428.15 429.15\n",
      " 430.15 431.15 432.15 433.15 434.15 435.15 436.15 437.15 438.15 439.15\n",
      " 440.15 441.15 442.15 443.15 444.15 445.15 446.15 447.15 448.15 449.15\n",
      " 450.15 451.15 452.15 453.15 454.15 455.15 456.15 457.15 458.15 459.15\n",
      " 460.15 461.15 462.15 463.15 464.15 465.15 466.15 467.15 468.15 469.15\n",
      " 470.15 471.15 472.15 473.15 474.15 475.15 476.15 477.15 478.15 479.15\n",
      " 480.15 481.15 482.15 483.15 484.15 485.15 486.15 487.15 488.15 489.15\n",
      " 490.15 491.15 492.15 493.15 494.15 495.15 496.15 497.15 498.15 499.15\n",
      " 500.15 501.15 502.15 503.15 504.15 505.15 506.15 507.15 508.15 509.15\n",
      " 510.15 511.15 512.15 513.15 514.15 515.15 516.15 517.15 518.15 519.15\n",
      " 520.15 521.15 522.15 523.15 524.15 525.15 526.15 527.15 528.15 529.15\n",
      " 530.15 531.15 532.15 533.15 534.15 535.15 536.15 537.15 538.15 539.15\n",
      " 540.15 541.15 542.15 543.15 544.15 545.15 546.15 547.15 548.15 549.15\n",
      " 550.15 551.15 552.15 553.15 554.15 555.15 556.15 557.15 558.15 559.15\n",
      " 560.15 561.15 562.15 563.15 564.15 565.15 566.15 567.15 568.15 569.15\n",
      " 570.15 571.15 572.15 573.15 574.15 575.15 576.15 577.15 578.15 579.15\n",
      " 580.15 581.15 582.15 583.15 584.15 585.15 586.15 587.15 588.15 589.15\n",
      " 590.15 591.15 592.15 593.15 594.15 595.15 596.15 597.15 598.15 599.15\n",
      " 600.15 601.15 602.15 603.15 604.15 605.15 606.15 607.15 608.15 609.15\n",
      " 610.15 611.15 612.15 613.15 614.15 615.15 616.15 617.15 618.15 619.15\n",
      " 620.15 621.15 622.15 623.15 624.15 625.15 626.15 627.15 628.15 629.15\n",
      " 630.15 631.15 632.15 633.15 634.15 635.15 636.15 637.15 638.15 639.15\n",
      " 640.15 641.15 642.15 643.15 644.15 645.15 646.15 647.15 648.15 649.15\n",
      " 650.15 651.15 652.15 653.15 654.15 655.15 656.15 657.15 658.15 659.15\n",
      " 660.15 661.15 662.15 663.15 664.15 665.15 666.15 667.15 668.15 669.15\n",
      " 670.15 671.15 672.15 673.15 674.15 675.15 676.15 677.15 678.15 679.15\n",
      " 680.15 681.15 682.15 683.15 684.15 685.15 686.15 687.15 688.15 689.15\n",
      " 690.15 691.15 692.15 693.15 694.15 695.15 696.15 697.15 698.15 699.15\n",
      " 700.15 701.15 702.15 703.15 704.15 705.15 706.15 707.15 708.15 709.15\n",
      " 710.15 711.15 712.15 713.15 714.15 715.15 716.15 717.15 718.15 719.15\n",
      " 720.15 721.15 722.15 723.15 724.15 725.15 726.15 727.15 728.15 729.15\n",
      " 730.15 731.15 732.15 733.15 734.15 735.15 736.15 737.15 738.15 739.15\n",
      " 740.15 741.15 742.15 743.15 744.15 745.15 746.15 747.15 748.15 749.15\n",
      " 750.15 751.15 752.15 753.15 754.15 755.15 756.15 757.15 758.15 759.15\n",
      " 760.15 761.15 762.15 763.15 764.15 765.15 766.15 767.15 768.15 769.15\n",
      " 770.15 771.15 772.15]\n"
     ]
    }
   ],
   "source": [
    "print(\"Coeficientes:\\n\", matriz[0])"
   ]
  },
  {
   "cell_type": "markdown",
   "metadata": {},
   "source": [
    "Note que por padrão, apenas temperaturas acima de 20°C são válidas. Note como a função realiza a truncagem de forma automatizada."
   ]
  },
  {
   "cell_type": "code",
   "execution_count": 12,
   "metadata": {},
   "outputs": [
    {
     "name": "stdout",
     "output_type": "stream",
     "text": [
      "Temperaturas (K):\n",
      " [293.61153846 294.15      ]\n",
      "Coeficientes:\n",
      " [53.31863077 53.3007    ]\n"
     ]
    }
   ],
   "source": [
    "matriz = mcp.cfcond_termica(np.linspace(0.,21., 40), 'c') # Vetor de temperaturas entre 0 e 21°C com 40 elementos\n",
    "\n",
    "print(\"Temperaturas (K):\\n\", matriz[0])\n",
    "print(\"Coeficientes:\\n\", matriz[1])"
   ]
  },
  {
   "cell_type": "markdown",
   "metadata": {},
   "source": [
    "## Teste da função `cfcond_termica`\n",
    "\n",
    "### Teste de operação sobre um vetor de temperaturas válido\n",
    "\n",
    "Note que nenhuma personalização é aplicada ao gráfico, ficando ao critério do usuário fazê-lo. \n",
    "Os objetos retornados `fig` e `ax` são nativos do [Maplotlib](https://matplotlib.org/), onde a documentação para os métodos de [Axis](https://matplotlib.org/stable/api/axis_api.html) e [Figure](https://matplotlib.org/stable/api/figure_api.html#module-matplotlib.figure) podem ser consultadas."
   ]
  },
  {
   "cell_type": "code",
   "execution_count": 16,
   "metadata": {},
   "outputs": [
    {
     "name": "stdout",
     "output_type": "stream",
     "text": [
      "Testes na função cfcond_termica().\n"
     ]
    },
    {
     "data": {
      "image/png": "[encoded data removed]",
      "text/plain": [
       "<Figure size 640x480 with 1 Axes>"
      ]
     },
     "metadata": {},
     "output_type": "display_data"
    }
   ],
   "source": [
    "fig, ax = mtt.teste_condterm(\"VECTEMP-VAL\")\n",
    "ax.set_ylim(bottom=0)\n",
    "plt.show()"
   ]
  },
  {
   "cell_type": "markdown",
   "metadata": {},
   "source": [
    "### Teste de operação sobre um vetor de temperaturas parcialmente válido"
   ]
  },
  {
   "cell_type": "code",
   "execution_count": 17,
   "metadata": {},
   "outputs": [
    {
     "name": "stdout",
     "output_type": "stream",
     "text": [
      "Testes na função cfcond_termica().\n",
      "Testando um vetor de temperaturas entre 273.15 e 2273.05\n"
     ]
    },
    {
     "data": {
      "image/png": "[encoded data removed]",
      "text/plain": [
       "<Figure size 640x480 with 1 Axes>"
      ]
     },
     "metadata": {},
     "output_type": "display_data"
    }
   ],
   "source": [
    "fig, ax = mtt.teste_condterm(\"VECTEMP-PARC-INVAL\")\n",
    "ax.set_ylim(bottom=0)\n",
    "plt.show()"
   ]
  },
  {
   "cell_type": "markdown",
   "metadata": {},
   "source": [
    "### Teste de operação randômica"
   ]
  },
  {
   "cell_type": "code",
   "execution_count": 18,
   "metadata": {},
   "outputs": [
    {
     "name": "stdout",
     "output_type": "stream",
     "text": [
      "Testes na função cfcond_termica().\n"
     ]
    },
    {
     "data": {
      "image/png": "[encoded data removed]",
      "text/plain": [
       "<Figure size 640x480 with 1 Axes>"
      ]
     },
     "metadata": {},
     "output_type": "display_data"
    }
   ],
   "source": [
    "fig, ax = mtt.teste_condterm(\"RANDTEMP-VAL\")\n",
    "ax.set_ylim(bottom=0)\n",
    "plt.show()"
   ]
  },
  {
   "cell_type": "code",
   "execution_count": null,
   "metadata": {},
   "outputs": [],
   "source": []
  }
 ],
 "metadata": {
  "kernelspec": {
   "display_name": "Python 3 (ipykernel)",
   "language": "python",
   "name": "python3"
  },
  "language_info": {
   "codemirror_mode": {
    "name": "ipython",
    "version": 3
   },
   "file_extension": ".py",
   "mimetype": "text/x-python",
   "name": "python",
   "nbconvert_exporter": "python",
   "pygments_lexer": "ipython3",
   "version": "3.9.15"
  },
  "vscode": {
   "interpreter": {
    "hash": "bb4158b8629297ca0544f02399afc2b84b17698598cc597108eba54c058fa260"
   }
  }
 },
 "nbformat": 4,
 "nbformat_minor": 4
}
