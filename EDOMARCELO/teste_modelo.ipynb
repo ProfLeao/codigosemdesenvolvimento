{
 "cells": [
  {
   "cell_type": "markdown",
   "id": "098146f1-ec4a-4051-b548-476ceb00021e",
   "metadata": {},
   "source": [
    "# Distribuição de temperatura em eletrodo ao longo de seu comprimento energizado na soldagem subaquática com arame tubular.\n",
    "\n",
    "# Abordagem matemática\n",
    "\n",
    "O modelo original do problema tem a forma:\n",
    "\n",
    "$$\n",
    "\\frac{d}{dz} \\left( k \\frac{dT}{dz}\\right) + w \\rho \\frac{d (c_v T)}{dz} - h(T - T_\\infty) = -j^2 r\n",
    "$$\n",
    "\n"
   ]
  },
  {
   "cell_type": "markdown",
   "id": "f84180c9-ad66-46d8-8a94-3fcac09bb6bc",
   "metadata": {},
   "source": [
    "Considerando $k$ e $c_v$ determinadas iterativamente, e a função $v = {dT}/{dz}$, pode-se escrever a equação na forma dada por:\n",
    "\n",
    "$$\n",
    "\\frac{dT}{dz} = v\n",
    "$$\n",
    "$$\n",
    "\\frac{dv}{dz} = \\frac{1}{k} \\left( - w \\rho c_v v + h(T - T_\\infty) -j^2 r \\right)\n",
    "$$"
   ]
  },
  {
   "cell_type": "markdown",
   "id": "cb4bc43f-2cbd-4e1b-a73b-ada8fb137029",
   "metadata": {},
   "source": [
    "## Teste do modelo computacional"
   ]
  },
  {
   "cell_type": "markdown",
   "id": "ccc4a30b-3779-40b1-a031-f2cfec234e30",
   "metadata": {},
   "source": [
    "Para uso do modelo computacional, em primeiro lugar deve-se fazer a importação das bibliotecas necessárias para lidar com os dados."
   ]
  },
  {
   "cell_type": "code",
   "execution_count": 1,
   "id": "a436c9c1-2810-46e7-a910-b342ac60bc5b",
   "metadata": {},
   "outputs": [],
   "source": [
    "import numpy as np\n",
    "import matplotlib.pyplot as plt"
   ]
  },
  {
   "cell_type": "markdown",
   "id": "e2404c47-5d3a-46c6-a20f-189ff29b1629",
   "metadata": {},
   "source": [
    "O modelo da equação diferencial está implementado no módulo na função `edo_marcelo` do módulo `edo_marcelo`."
   ]
  },
  {
   "cell_type": "code",
   "execution_count": 2,
   "id": "40296d33-e616-4c39-b921-2e00177d2afd",
   "metadata": {},
   "outputs": [],
   "source": [
    "from marcelo_solver.edo_marcelo import edo_marcelo"
   ]
  },
  {
   "cell_type": "markdown",
   "id": "27de59da-923a-42c8-8c85-888f52f15188",
   "metadata": {},
   "source": [
    "A documentação da função pode ser consultada da seguinte forma. "
   ]
  },
  {
   "cell_type": "code",
   "execution_count": 3,
   "id": "a79b012a-a264-428b-8989-94a58f30a64a",
   "metadata": {},
   "outputs": [
    {
     "name": "stdout",
     "output_type": "stream",
     "text": [
      "Help on function edo_marcelo in module marcelo_solver.edo_marcelo:\n",
      "\n",
      "edo_marcelo(parm, par_cond_cont, interv, method='RK45', f_k=<function cfcond_termica at 0x7f59e034fa60>, f_cv=<function calesp_vol at 0x7f59e141dc10>, f_rho=<function densidade at 0x7f59e03a9f70>)\n",
      "    Recebe:\n",
      "    \n",
      "    · parm:tuple (\n",
      "        coef_w:float,\n",
      "        dic_h:dict, # ATENÇÃO AO TIPO DISTOANTE\n",
      "        coef_Tinf:float, \n",
      "        coef_j:float, \n",
      "        coef_r:float,\n",
      "        coef_delh:float,\n",
      "        coef_V: float,\n",
      "    ) - uma tupla de 7 parâmetros do tipo float para o modelo.\n",
      "    \n",
      "    · cond_cont:tuple (\n",
      "        [cd00:float,cd01:float]:list, \n",
      "        [cd10:float,cd11:float]:list\n",
      "    ) - uma tupla de duas listas com pares ordenados descritores das \n",
      "    condições de contorno. \n",
      "    \n",
      "    · interv: tuple (if:float, sup:float, disc:float) - tupla contendo, \n",
      "    os limites inferior e superior de integração e o a discretização do \n",
      "    vetor.\n",
      "    \n",
      "    Por padrão a função usa Runge-Kutta de ordem 5(4) como método numérico.\n",
      "    \n",
      "    Retorna:\n",
      "    \n",
      "    Dois objetos scipy de grupo com os seguintes campos definidos em cada\n",
      "    um.\n",
      "    ·t:ndarray, shape (n_points,)\n",
      "        Pontos de temperatura.\n",
      "    ·y:ndarray, shape (n, n_points)\n",
      "        Valores das soluções em cada t.\n",
      "    ·sol:OdeSolution ou None\n",
      "        Solução como um objeto OdeSolution; None se dense_output foi \n",
      "        passado como False.\n",
      "    ·t_events:list de ndarray ou None\n",
      "        Contém para cada tipo de evento uma lista de arrays nos quais um \n",
      "        evento desse tipo foi detectado. None se nenhum evento foi \n",
      "        encontrado.\n",
      "    ·y_events:list de ndarray ou None\n",
      "        Para cada valor de t_events, a solução correspondente. None se \n",
      "        nenhum evento foi encontrado.\n",
      "    ·nfev:int\n",
      "        Número de avaliações do lado direito.\n",
      "    ·njev:int\n",
      "        Número de avaliações do Jacobiano.\n",
      "    ·nlu:int\n",
      "        Número de decomposições LU.\n",
      "    ·status:int\n",
      "        Causas de término do algoritmo:\n",
      "        -1: Falha no passo de integração.\n",
      "        0: O solver alcançou com sucesso o final do intervalo de integração.\n",
      "        1: Ocorrência de evento de término. \n",
      "    ·message:string\n",
      "        Descrição legível para humanos do motivo da término.\n",
      "    ·success:bool\n",
      "        True se o solucionador atingiu o fim do intervalo ou ocorreu um evento de término (status >= 0).\n",
      "\n"
     ]
    }
   ],
   "source": [
    "help(edo_marcelo)"
   ]
  },
  {
   "cell_type": "markdown",
   "id": "37d7f3e2-951d-4946-a0a8-578c06ed8667",
   "metadata": {},
   "source": [
    "Os parâmetros de execução do modelo são extraídos do arquivo `parametros.json` que deve sempre estar contido no diretório de execução do modelo. Sua estrutura é:\n",
    "\n",
    "``` json\n",
    "{\n",
    "    \"coef_w\": \"1.\",\n",
    "    \"dic_h\": {\n",
    "        \"1.\": [\"1.\",\"1.\"],\n",
    "        \"115\": [\"1.\", \"1.\"]\n",
    "    },\n",
    "    \"coef_Tinf\": \"1.\",\n",
    "    \"coef_j\": \"1,\",\n",
    "    \"coef_r\": \"1.\",\n",
    "    \"coef_variacao da entalpia\": \"120.\",\n",
    "    \"coef_tensao\": \"20\",\n",
    "    \"intervalo de integração\": [\"1.\",\"1.\"],\n",
    "    \"discretização do intervalo\": \"1\",\n",
    "    \"condicoes de contorno\": {\n",
    "        \"extremidade consumida\": [\"1.\", \"1.\"],\n",
    "        \"bico de contato\": [\"1.\", \"1.\"]\n",
    "    }\n",
    "}\n",
    "```\n",
    "\n",
    "Por padrão os coeficientes $w$, $h$, $T_\\infty$, $j$ e $r$, são configurados como unitários, o usuário deve fazer a modificação antes da execução, note que o parâmetro `dic_h` está registrado no segundo campo do `json`.\n",
    "\n",
    "Para realizar a extração do parâmetros e posterior passagem à função `edo_marcelo` a função `carrega_parametros` deve ser importada do módulo `diversos`."
   ]
  },
  {
   "cell_type": "code",
   "execution_count": 4,
   "id": "688098e7-f52a-482e-a3cc-30db61741aaf",
   "metadata": {},
   "outputs": [],
   "source": [
    "from marcelo_solver.diversos import carrega_parametros"
   ]
  },
  {
   "cell_type": "markdown",
   "id": "7496f20e-84ef-4315-9e01-f38756fe3c22",
   "metadata": {},
   "source": [
    "Em seguida pode ser usada para o carregamento dos valores na forma de um dicionário Python."
   ]
  },
  {
   "cell_type": "code",
   "execution_count": 5,
   "id": "84a6a9fd-7fd5-4000-8ca6-74eedd459411",
   "metadata": {},
   "outputs": [
    {
     "data": {
      "text/plain": [
       "{'coef_w': '75.',\n",
       " 'dic_h': {'1175.': ['0.', '9.'], '115': ['9.', '15.']},\n",
       " 'coef_Tinf': '25.',\n",
       " 'coef_j': '99.47',\n",
       " 'coef_r': '5.62e-6',\n",
       " 'coef_variacao da entalpia': '120.',\n",
       " 'coef_tensao': '20',\n",
       " 'intervalo de integração': ['0.', '15.'],\n",
       " 'discretização do intervalo': '1.e-3',\n",
       " 'condicoes de contorno': {'extremidade consumida': ['0.', '1515.'],\n",
       "  'bico de contato': ['15.', '158.']}}"
      ]
     },
     "execution_count": 5,
     "metadata": {},
     "output_type": "execute_result"
    }
   ],
   "source": [
    "dict_parametros = carrega_parametros()\n",
    "dict_parametros"
   ]
  },
  {
   "cell_type": "markdown",
   "id": "ee0f9e1a-8a3b-4700-8de9-76e1e8c3a1d9",
   "metadata": {},
   "source": [
    "As aspas em torno dos valores numéricos indicam que estão armazenados na forma de `string` a mudança de tipo para ponto flutuante deve ser realizada explicitamente antes do uso, ou uma rotina para fazê-lo no próprio dicionário deve ser implementada."
   ]
  },
  {
   "cell_type": "markdown",
   "id": "055cb07a-cae7-4aa3-87de-884a733d60da",
   "metadata": {},
   "source": [
    "## Execução do modelo\n",
    "\n",
    "Na documentação da função `edo_marcelo`, mostrada acima, é possível ver que a função recebe três parâmetros:\n",
    "1. `parm` - tupla com os coeficientes.\n",
    "2. `cond_cont` - tupla com as condições de contorno\n",
    "3. `interv` - tupla com o intervalo de integração e a discretização máxima desejada.\n",
    "\n",
    "Uma tupla do Python é um contâiner de valores imutável, por isso de maior desempenho computacional. Eles podem ser criados da seguinte forma:"
   ]
  },
  {
   "cell_type": "code",
   "execution_count": 6,
   "id": "35c8c764-3179-41c9-a37a-880a88e2f388",
   "metadata": {},
   "outputs": [
    {
     "data": {
      "text/plain": [
       "(75.0,\n",
       " {'1175.': ['0.', '9.'], '115': ['9.', '15.']},\n",
       " 25.0,\n",
       " 99.47,\n",
       " 5.62e-06,\n",
       " 120.0,\n",
       " 20.0)"
      ]
     },
     "execution_count": 6,
     "metadata": {},
     "output_type": "execute_result"
    }
   ],
   "source": [
    "parm = [float(dict_parametros[k]) for k in dict_parametros.keys() if \"coef\" in k]\n",
    "parm.insert(1, dict_parametros[\"dic_h\"])\n",
    "parm = tuple(parm)\n",
    "parm"
   ]
  },
  {
   "cell_type": "code",
   "execution_count": 7,
   "id": "774aecd8-d6d9-4812-a47c-680fd7c1e719",
   "metadata": {},
   "outputs": [
    {
     "data": {
      "text/plain": [
       "([0.0, 1515.0], [15.0, 158.0])"
      ]
     },
     "execution_count": 7,
     "metadata": {},
     "output_type": "execute_result"
    }
   ],
   "source": [
    "cond_cont = (\n",
    "    [\n",
    "        float(dict_parametros[\"condicoes de contorno\"]\\\n",
    "              [\"extremidade consumida\"][0]),\n",
    "        float(dict_parametros[\"condicoes de contorno\"]\\\n",
    "              [\"extremidade consumida\"][1])\n",
    "    ],\n",
    "    [\n",
    "        float(dict_parametros[\"condicoes de contorno\"]\\\n",
    "              [\"bico de contato\"][0]),\n",
    "        float(dict_parametros[\"condicoes de contorno\"]\\\n",
    "              [\"bico de contato\"][1])\n",
    "    ]\n",
    ")\n",
    "cond_cont"
   ]
  },
  {
   "cell_type": "code",
   "execution_count": 8,
   "id": "b8b42e27-34c4-4624-b335-f1f62b42c65b",
   "metadata": {},
   "outputs": [
    {
     "data": {
      "text/plain": [
       "(0.0, 15.0, 0.001)"
      ]
     },
     "execution_count": 8,
     "metadata": {},
     "output_type": "execute_result"
    }
   ],
   "source": [
    "interv = (\n",
    "    float(\n",
    "        dict_parametros[\"intervalo de integração\"][0]\n",
    "    ),\n",
    "    float(\n",
    "        dict_parametros[\"intervalo de integração\"][1]\n",
    "    ),\n",
    "    float(\n",
    "        dict_parametros[\"discretização do intervalo\"]\n",
    "    )\n",
    ")\n",
    "interv"
   ]
  },
  {
   "cell_type": "markdown",
   "id": "2fda26c7-2303-4e09-91d3-1438c4f25800",
   "metadata": {},
   "source": [
    "Agora os parâmetros podem ser passados para o modelo."
   ]
  },
  {
   "cell_type": "code",
   "execution_count": 9,
   "id": "ab2201db-b91c-42eb-85bb-0ef492f2698c",
   "metadata": {},
   "outputs": [
    {
     "name": "stdout",
     "output_type": "stream",
     "text": [
      "Integrandeo temperatura 1515.000 em 2.261 \tmm\r"
     ]
    },
    {
     "ename": "ValueError",
     "evalue": "ERRO!\nA temperatura 1515.0000075356695 não é definida no intervalo de temperaturas do modelo.",
     "output_type": "error",
     "traceback": [
      "\u001b[0;31m---------------------------------------------------------------------------\u001b[0m",
      "\u001b[0;31mValueError\u001b[0m                                Traceback (most recent call last)",
      "\u001b[0;32m/tmp/ipykernel_49167/2591852480.py\u001b[0m in \u001b[0;36m<module>\u001b[0;34m\u001b[0m\n\u001b[0;32m----> 1\u001b[0;31m \u001b[0msol0\u001b[0m \u001b[0;34m=\u001b[0m \u001b[0medo_marcelo\u001b[0m\u001b[0;34m(\u001b[0m\u001b[0mparm\u001b[0m\u001b[0;34m,\u001b[0m \u001b[0mcond_cont\u001b[0m\u001b[0;34m,\u001b[0m \u001b[0minterv\u001b[0m\u001b[0;34m)\u001b[0m\u001b[0;34m\u001b[0m\u001b[0;34m\u001b[0m\u001b[0m\n\u001b[0m",
      "\u001b[0;32m~/Insync/Trabalho/IFMG/IFMG_ARCOS/codigosemdesenvolvimento/EDOMARCELO/marcelo_solver/edo_marcelo.py\u001b[0m in \u001b[0;36medo_marcelo\u001b[0;34m(parm, par_cond_cont, interv, method, f_k, f_cv, f_rho)\u001b[0m\n\u001b[1;32m     92\u001b[0m     )\n\u001b[1;32m     93\u001b[0m \u001b[0;34m\u001b[0m\u001b[0m\n\u001b[0;32m---> 94\u001b[0;31m     sol0 = solve_ivp(\n\u001b[0m\u001b[1;32m     95\u001b[0m         \u001b[0mfun\u001b[0m \u001b[0;34m=\u001b[0m \u001b[0mmodelo\u001b[0m\u001b[0;34m,\u001b[0m\u001b[0;34m\u001b[0m\u001b[0;34m\u001b[0m\u001b[0m\n\u001b[1;32m     96\u001b[0m         \u001b[0mt_span\u001b[0m \u001b[0;34m=\u001b[0m \u001b[0;34m[\u001b[0m\u001b[0minterv\u001b[0m\u001b[0;34m[\u001b[0m\u001b[0;36m0\u001b[0m\u001b[0;34m]\u001b[0m\u001b[0;34m,\u001b[0m \u001b[0minterv\u001b[0m\u001b[0;34m[\u001b[0m\u001b[0;36m1\u001b[0m\u001b[0;34m]\u001b[0m\u001b[0;34m]\u001b[0m\u001b[0;34m,\u001b[0m\u001b[0;34m\u001b[0m\u001b[0;34m\u001b[0m\u001b[0m\n",
      "\u001b[0;32m~/anaconda3/lib/python3.9/site-packages/scipy/integrate/_ivp/ivp.py\u001b[0m in \u001b[0;36msolve_ivp\u001b[0;34m(fun, t_span, y0, method, t_eval, dense_output, events, vectorized, args, **options)\u001b[0m\n\u001b[1;32m    574\u001b[0m     \u001b[0mstatus\u001b[0m \u001b[0;34m=\u001b[0m \u001b[0;32mNone\u001b[0m\u001b[0;34m\u001b[0m\u001b[0;34m\u001b[0m\u001b[0m\n\u001b[1;32m    575\u001b[0m     \u001b[0;32mwhile\u001b[0m \u001b[0mstatus\u001b[0m \u001b[0;32mis\u001b[0m \u001b[0;32mNone\u001b[0m\u001b[0;34m:\u001b[0m\u001b[0;34m\u001b[0m\u001b[0;34m\u001b[0m\u001b[0m\n\u001b[0;32m--> 576\u001b[0;31m         \u001b[0mmessage\u001b[0m \u001b[0;34m=\u001b[0m \u001b[0msolver\u001b[0m\u001b[0;34m.\u001b[0m\u001b[0mstep\u001b[0m\u001b[0;34m(\u001b[0m\u001b[0;34m)\u001b[0m\u001b[0;34m\u001b[0m\u001b[0;34m\u001b[0m\u001b[0m\n\u001b[0m\u001b[1;32m    577\u001b[0m \u001b[0;34m\u001b[0m\u001b[0m\n\u001b[1;32m    578\u001b[0m         \u001b[0;32mif\u001b[0m \u001b[0msolver\u001b[0m\u001b[0;34m.\u001b[0m\u001b[0mstatus\u001b[0m \u001b[0;34m==\u001b[0m \u001b[0;34m'finished'\u001b[0m\u001b[0;34m:\u001b[0m\u001b[0;34m\u001b[0m\u001b[0;34m\u001b[0m\u001b[0m\n",
      "\u001b[0;32m~/anaconda3/lib/python3.9/site-packages/scipy/integrate/_ivp/base.py\u001b[0m in \u001b[0;36mstep\u001b[0;34m(self)\u001b[0m\n\u001b[1;32m    179\u001b[0m         \u001b[0;32melse\u001b[0m\u001b[0;34m:\u001b[0m\u001b[0;34m\u001b[0m\u001b[0;34m\u001b[0m\u001b[0m\n\u001b[1;32m    180\u001b[0m             \u001b[0mt\u001b[0m \u001b[0;34m=\u001b[0m \u001b[0mself\u001b[0m\u001b[0;34m.\u001b[0m\u001b[0mt\u001b[0m\u001b[0;34m\u001b[0m\u001b[0;34m\u001b[0m\u001b[0m\n\u001b[0;32m--> 181\u001b[0;31m             \u001b[0msuccess\u001b[0m\u001b[0;34m,\u001b[0m \u001b[0mmessage\u001b[0m \u001b[0;34m=\u001b[0m \u001b[0mself\u001b[0m\u001b[0;34m.\u001b[0m\u001b[0m_step_impl\u001b[0m\u001b[0;34m(\u001b[0m\u001b[0;34m)\u001b[0m\u001b[0;34m\u001b[0m\u001b[0;34m\u001b[0m\u001b[0m\n\u001b[0m\u001b[1;32m    182\u001b[0m \u001b[0;34m\u001b[0m\u001b[0m\n\u001b[1;32m    183\u001b[0m             \u001b[0;32mif\u001b[0m \u001b[0;32mnot\u001b[0m \u001b[0msuccess\u001b[0m\u001b[0;34m:\u001b[0m\u001b[0;34m\u001b[0m\u001b[0;34m\u001b[0m\u001b[0m\n",
      "\u001b[0;32m~/anaconda3/lib/python3.9/site-packages/scipy/integrate/_ivp/rk.py\u001b[0m in \u001b[0;36m_step_impl\u001b[0;34m(self)\u001b[0m\n\u001b[1;32m    142\u001b[0m             \u001b[0mh_abs\u001b[0m \u001b[0;34m=\u001b[0m \u001b[0mnp\u001b[0m\u001b[0;34m.\u001b[0m\u001b[0mabs\u001b[0m\u001b[0;34m(\u001b[0m\u001b[0mh\u001b[0m\u001b[0;34m)\u001b[0m\u001b[0;34m\u001b[0m\u001b[0;34m\u001b[0m\u001b[0m\n\u001b[1;32m    143\u001b[0m \u001b[0;34m\u001b[0m\u001b[0m\n\u001b[0;32m--> 144\u001b[0;31m             y_new, f_new = rk_step(self.fun, t, y, self.f, h, self.A,\n\u001b[0m\u001b[1;32m    145\u001b[0m                                    self.B, self.C, self.K)\n\u001b[1;32m    146\u001b[0m             \u001b[0mscale\u001b[0m \u001b[0;34m=\u001b[0m \u001b[0matol\u001b[0m \u001b[0;34m+\u001b[0m \u001b[0mnp\u001b[0m\u001b[0;34m.\u001b[0m\u001b[0mmaximum\u001b[0m\u001b[0;34m(\u001b[0m\u001b[0mnp\u001b[0m\u001b[0;34m.\u001b[0m\u001b[0mabs\u001b[0m\u001b[0;34m(\u001b[0m\u001b[0my\u001b[0m\u001b[0;34m)\u001b[0m\u001b[0;34m,\u001b[0m \u001b[0mnp\u001b[0m\u001b[0;34m.\u001b[0m\u001b[0mabs\u001b[0m\u001b[0;34m(\u001b[0m\u001b[0my_new\u001b[0m\u001b[0;34m)\u001b[0m\u001b[0;34m)\u001b[0m \u001b[0;34m*\u001b[0m \u001b[0mrtol\u001b[0m\u001b[0;34m\u001b[0m\u001b[0;34m\u001b[0m\u001b[0m\n",
      "\u001b[0;32m~/anaconda3/lib/python3.9/site-packages/scipy/integrate/_ivp/rk.py\u001b[0m in \u001b[0;36mrk_step\u001b[0;34m(fun, t, y, f, h, A, B, C, K)\u001b[0m\n\u001b[1;32m     62\u001b[0m     \u001b[0;32mfor\u001b[0m \u001b[0ms\u001b[0m\u001b[0;34m,\u001b[0m \u001b[0;34m(\u001b[0m\u001b[0ma\u001b[0m\u001b[0;34m,\u001b[0m \u001b[0mc\u001b[0m\u001b[0;34m)\u001b[0m \u001b[0;32min\u001b[0m \u001b[0menumerate\u001b[0m\u001b[0;34m(\u001b[0m\u001b[0mzip\u001b[0m\u001b[0;34m(\u001b[0m\u001b[0mA\u001b[0m\u001b[0;34m[\u001b[0m\u001b[0;36m1\u001b[0m\u001b[0;34m:\u001b[0m\u001b[0;34m]\u001b[0m\u001b[0;34m,\u001b[0m \u001b[0mC\u001b[0m\u001b[0;34m[\u001b[0m\u001b[0;36m1\u001b[0m\u001b[0;34m:\u001b[0m\u001b[0;34m]\u001b[0m\u001b[0;34m)\u001b[0m\u001b[0;34m,\u001b[0m \u001b[0mstart\u001b[0m\u001b[0;34m=\u001b[0m\u001b[0;36m1\u001b[0m\u001b[0;34m)\u001b[0m\u001b[0;34m:\u001b[0m\u001b[0;34m\u001b[0m\u001b[0;34m\u001b[0m\u001b[0m\n\u001b[1;32m     63\u001b[0m         \u001b[0mdy\u001b[0m \u001b[0;34m=\u001b[0m \u001b[0mnp\u001b[0m\u001b[0;34m.\u001b[0m\u001b[0mdot\u001b[0m\u001b[0;34m(\u001b[0m\u001b[0mK\u001b[0m\u001b[0;34m[\u001b[0m\u001b[0;34m:\u001b[0m\u001b[0ms\u001b[0m\u001b[0;34m]\u001b[0m\u001b[0;34m.\u001b[0m\u001b[0mT\u001b[0m\u001b[0;34m,\u001b[0m \u001b[0ma\u001b[0m\u001b[0;34m[\u001b[0m\u001b[0;34m:\u001b[0m\u001b[0ms\u001b[0m\u001b[0;34m]\u001b[0m\u001b[0;34m)\u001b[0m \u001b[0;34m*\u001b[0m \u001b[0mh\u001b[0m\u001b[0;34m\u001b[0m\u001b[0;34m\u001b[0m\u001b[0m\n\u001b[0;32m---> 64\u001b[0;31m         \u001b[0mK\u001b[0m\u001b[0;34m[\u001b[0m\u001b[0ms\u001b[0m\u001b[0;34m]\u001b[0m \u001b[0;34m=\u001b[0m \u001b[0mfun\u001b[0m\u001b[0;34m(\u001b[0m\u001b[0mt\u001b[0m \u001b[0;34m+\u001b[0m \u001b[0mc\u001b[0m \u001b[0;34m*\u001b[0m \u001b[0mh\u001b[0m\u001b[0;34m,\u001b[0m \u001b[0my\u001b[0m \u001b[0;34m+\u001b[0m \u001b[0mdy\u001b[0m\u001b[0;34m)\u001b[0m\u001b[0;34m\u001b[0m\u001b[0;34m\u001b[0m\u001b[0m\n\u001b[0m\u001b[1;32m     65\u001b[0m \u001b[0;34m\u001b[0m\u001b[0m\n\u001b[1;32m     66\u001b[0m     \u001b[0my_new\u001b[0m \u001b[0;34m=\u001b[0m \u001b[0my\u001b[0m \u001b[0;34m+\u001b[0m \u001b[0mh\u001b[0m \u001b[0;34m*\u001b[0m \u001b[0mnp\u001b[0m\u001b[0;34m.\u001b[0m\u001b[0mdot\u001b[0m\u001b[0;34m(\u001b[0m\u001b[0mK\u001b[0m\u001b[0;34m[\u001b[0m\u001b[0;34m:\u001b[0m\u001b[0;34m-\u001b[0m\u001b[0;36m1\u001b[0m\u001b[0;34m]\u001b[0m\u001b[0;34m.\u001b[0m\u001b[0mT\u001b[0m\u001b[0;34m,\u001b[0m \u001b[0mB\u001b[0m\u001b[0;34m)\u001b[0m\u001b[0;34m\u001b[0m\u001b[0;34m\u001b[0m\u001b[0m\n",
      "\u001b[0;32m~/anaconda3/lib/python3.9/site-packages/scipy/integrate/_ivp/base.py\u001b[0m in \u001b[0;36mfun\u001b[0;34m(t, y)\u001b[0m\n\u001b[1;32m    136\u001b[0m         \u001b[0;32mdef\u001b[0m \u001b[0mfun\u001b[0m\u001b[0;34m(\u001b[0m\u001b[0mt\u001b[0m\u001b[0;34m,\u001b[0m \u001b[0my\u001b[0m\u001b[0;34m)\u001b[0m\u001b[0;34m:\u001b[0m\u001b[0;34m\u001b[0m\u001b[0;34m\u001b[0m\u001b[0m\n\u001b[1;32m    137\u001b[0m             \u001b[0mself\u001b[0m\u001b[0;34m.\u001b[0m\u001b[0mnfev\u001b[0m \u001b[0;34m+=\u001b[0m \u001b[0;36m1\u001b[0m\u001b[0;34m\u001b[0m\u001b[0;34m\u001b[0m\u001b[0m\n\u001b[0;32m--> 138\u001b[0;31m             \u001b[0;32mreturn\u001b[0m \u001b[0mself\u001b[0m\u001b[0;34m.\u001b[0m\u001b[0mfun_single\u001b[0m\u001b[0;34m(\u001b[0m\u001b[0mt\u001b[0m\u001b[0;34m,\u001b[0m \u001b[0my\u001b[0m\u001b[0;34m)\u001b[0m\u001b[0;34m\u001b[0m\u001b[0;34m\u001b[0m\u001b[0m\n\u001b[0m\u001b[1;32m    139\u001b[0m \u001b[0;34m\u001b[0m\u001b[0m\n\u001b[1;32m    140\u001b[0m         \u001b[0mself\u001b[0m\u001b[0;34m.\u001b[0m\u001b[0mfun\u001b[0m \u001b[0;34m=\u001b[0m \u001b[0mfun\u001b[0m\u001b[0;34m\u001b[0m\u001b[0;34m\u001b[0m\u001b[0m\n",
      "\u001b[0;32m~/anaconda3/lib/python3.9/site-packages/scipy/integrate/_ivp/base.py\u001b[0m in \u001b[0;36mfun_wrapped\u001b[0;34m(t, y)\u001b[0m\n\u001b[1;32m     18\u001b[0m \u001b[0;34m\u001b[0m\u001b[0m\n\u001b[1;32m     19\u001b[0m     \u001b[0;32mdef\u001b[0m \u001b[0mfun_wrapped\u001b[0m\u001b[0;34m(\u001b[0m\u001b[0mt\u001b[0m\u001b[0;34m,\u001b[0m \u001b[0my\u001b[0m\u001b[0;34m)\u001b[0m\u001b[0;34m:\u001b[0m\u001b[0;34m\u001b[0m\u001b[0;34m\u001b[0m\u001b[0m\n\u001b[0;32m---> 20\u001b[0;31m         \u001b[0;32mreturn\u001b[0m \u001b[0mnp\u001b[0m\u001b[0;34m.\u001b[0m\u001b[0masarray\u001b[0m\u001b[0;34m(\u001b[0m\u001b[0mfun\u001b[0m\u001b[0;34m(\u001b[0m\u001b[0mt\u001b[0m\u001b[0;34m,\u001b[0m \u001b[0my\u001b[0m\u001b[0;34m)\u001b[0m\u001b[0;34m,\u001b[0m \u001b[0mdtype\u001b[0m\u001b[0;34m=\u001b[0m\u001b[0mdtype\u001b[0m\u001b[0;34m)\u001b[0m\u001b[0;34m\u001b[0m\u001b[0;34m\u001b[0m\u001b[0m\n\u001b[0m\u001b[1;32m     21\u001b[0m \u001b[0;34m\u001b[0m\u001b[0m\n\u001b[1;32m     22\u001b[0m     \u001b[0;32mreturn\u001b[0m \u001b[0mfun_wrapped\u001b[0m\u001b[0;34m,\u001b[0m \u001b[0my0\u001b[0m\u001b[0;34m\u001b[0m\u001b[0;34m\u001b[0m\u001b[0m\n",
      "\u001b[0;32m~/Insync/Trabalho/IFMG/IFMG_ARCOS/codigosemdesenvolvimento/EDOMARCELO/marcelo_solver/edo_marcelo.py\u001b[0m in \u001b[0;36mmodelo\u001b[0;34m(v_z, v_temp)\u001b[0m\n\u001b[1;32m     79\u001b[0m         \u001b[0mprint\u001b[0m\u001b[0;34m(\u001b[0m\u001b[0;34mf\"Integrandeo temperatura {temp:.3f} em {v_z:.3f} \\tmm\"\u001b[0m\u001b[0;34m,\u001b[0m \u001b[0mend\u001b[0m\u001b[0;34m=\u001b[0m\u001b[0;34m'\\r'\u001b[0m\u001b[0;34m)\u001b[0m\u001b[0;34m\u001b[0m\u001b[0;34m\u001b[0m\u001b[0m\n\u001b[1;32m     80\u001b[0m         \u001b[0minv_k\u001b[0m \u001b[0;34m=\u001b[0m \u001b[0;36m1\u001b[0m\u001b[0;34m/\u001b[0m\u001b[0mcfcond_termica\u001b[0m\u001b[0;34m(\u001b[0m\u001b[0mtemp\u001b[0m\u001b[0;34m)\u001b[0m\u001b[0;34m\u001b[0m\u001b[0;34m\u001b[0m\u001b[0m\n\u001b[0;32m---> 81\u001b[0;31m         \u001b[0mparc1\u001b[0m \u001b[0;34m=\u001b[0m \u001b[0;34m-\u001b[0m \u001b[0mparm\u001b[0m\u001b[0;34m[\u001b[0m\u001b[0;36m0\u001b[0m\u001b[0;34m]\u001b[0m \u001b[0;34m*\u001b[0m \u001b[0mdensidade\u001b[0m\u001b[0;34m(\u001b[0m\u001b[0mtemp\u001b[0m\u001b[0;34m)\u001b[0m \u001b[0;34m*\u001b[0m \u001b[0mcalesp_vol\u001b[0m\u001b[0;34m(\u001b[0m\u001b[0mtemp\u001b[0m\u001b[0;34m)\u001b[0m \u001b[0;34m*\u001b[0m \u001b[0mdtdz\u001b[0m\u001b[0;34m\u001b[0m\u001b[0;34m\u001b[0m\u001b[0m\n\u001b[0m\u001b[1;32m     82\u001b[0m         \u001b[0mparc2\u001b[0m \u001b[0;34m=\u001b[0m \u001b[0mtc_convec\u001b[0m\u001b[0;34m(\u001b[0m\u001b[0mv_z\u001b[0m\u001b[0;34m,\u001b[0m \u001b[0mparm\u001b[0m\u001b[0;34m[\u001b[0m\u001b[0;36m1\u001b[0m\u001b[0;34m]\u001b[0m\u001b[0;34m)\u001b[0m \u001b[0;34m*\u001b[0m \u001b[0;34m(\u001b[0m\u001b[0mtemp\u001b[0m \u001b[0;34m-\u001b[0m \u001b[0mparm\u001b[0m\u001b[0;34m[\u001b[0m\u001b[0;36m2\u001b[0m\u001b[0;34m]\u001b[0m\u001b[0;34m)\u001b[0m\u001b[0;34m\u001b[0m\u001b[0;34m\u001b[0m\u001b[0m\n\u001b[1;32m     83\u001b[0m         \u001b[0mparc3\u001b[0m \u001b[0;34m=\u001b[0m \u001b[0;34m-\u001b[0m \u001b[0mnp\u001b[0m\u001b[0;34m.\u001b[0m\u001b[0mpower\u001b[0m\u001b[0;34m(\u001b[0m\u001b[0mparm\u001b[0m\u001b[0;34m[\u001b[0m\u001b[0;36m3\u001b[0m\u001b[0;34m]\u001b[0m\u001b[0;34m,\u001b[0m \u001b[0;36m2\u001b[0m\u001b[0;34m)\u001b[0m \u001b[0;34m*\u001b[0m \u001b[0mparm\u001b[0m\u001b[0;34m[\u001b[0m\u001b[0;36m4\u001b[0m\u001b[0;34m]\u001b[0m\u001b[0;34m\u001b[0m\u001b[0;34m\u001b[0m\u001b[0m\n",
      "\u001b[0;32m~/Insync/Trabalho/IFMG/IFMG_ARCOS/codigosemdesenvolvimento/EDOMARCELO/marcelo_solver/coef_pol.py\u001b[0m in \u001b[0;36mdensidade\u001b[0;34m(temp, unid, temps_itv_1, temps_itv_2, temps_itv_3)\u001b[0m\n\u001b[1;32m    428\u001b[0m             \u001b[0mcv\u001b[0m \u001b[0;34m=\u001b[0m \u001b[0;34m-\u001b[0m\u001b[0;36m0.5575\u001b[0m \u001b[0;34m*\u001b[0m \u001b[0mtemp\u001b[0m \u001b[0;34m+\u001b[0m \u001b[0;36m8158.\u001b[0m\u001b[0;34m\u001b[0m\u001b[0;34m\u001b[0m\u001b[0m\n\u001b[1;32m    429\u001b[0m         \u001b[0;32melse\u001b[0m\u001b[0;34m:\u001b[0m\u001b[0;34m\u001b[0m\u001b[0;34m\u001b[0m\u001b[0m\n\u001b[0;32m--> 430\u001b[0;31m             raise ValueError(\n\u001b[0m\u001b[1;32m    431\u001b[0m                 \u001b[0;34m\"ERRO!\\n\"\u001b[0m\u001b[0;34m+\u001b[0m\u001b[0;31m\\\u001b[0m\u001b[0;34m\u001b[0m\u001b[0;34m\u001b[0m\u001b[0m\n\u001b[1;32m    432\u001b[0m                 \u001b[0;34mf\"A temperatura {temp} não é definida no intervalo de \"\u001b[0m\u001b[0;34m+\u001b[0m\u001b[0;31m\\\u001b[0m\u001b[0;34m\u001b[0m\u001b[0;34m\u001b[0m\u001b[0m\n",
      "\u001b[0;31mValueError\u001b[0m: ERRO!\nA temperatura 1515.0000075356695 não é definida no intervalo de temperaturas do modelo."
     ]
    }
   ],
   "source": [
    "sol0 = edo_marcelo(parm, cond_cont, interv)"
   ]
  },
  {
   "cell_type": "code",
   "execution_count": null,
   "id": "86c2b867-46a1-4b6a-bb10-744d7e06f19c",
   "metadata": {},
   "outputs": [],
   "source": []
  }
 ],
 "metadata": {
  "kernelspec": {
   "display_name": "Python 3",
   "language": "python",
   "name": "python3"
  },
  "language_info": {
   "codemirror_mode": {
    "name": "ipython",
    "version": 3
   },
   "file_extension": ".py",
   "mimetype": "text/x-python",
   "name": "python",
   "nbconvert_exporter": "python",
   "pygments_lexer": "ipython3",
   "version": "3.10.6 (main, Nov 14 2022, 16:10:14) [GCC 11.3.0]"
  },
  "vscode": {
   "interpreter": {
    "hash": "916dbcbb3f70747c44a77c7bcd40155683ae19c65e1c03b4aa3499c5328201f1"
   }
  }
 },
 "nbformat": 4,
 "nbformat_minor": 5
}
