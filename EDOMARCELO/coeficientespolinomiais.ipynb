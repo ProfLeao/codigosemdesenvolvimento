{
 "cells": [
  {
   "cell_type": "markdown",
   "metadata": {},
   "source": [
    "# Uso das funções de determinação dos coeficientes polinomiais\n",
    "\n",
    "Este notebook apresenta as formas de uso e teste das funções de determinação dos coeficientes polinomiais.\n",
    "Testes automatizados simples são implementados para verificação das funcionalidades."
   ]
  },
  {
   "cell_type": "markdown",
   "metadata": {},
   "source": [
    "A célula de código abaixo realiza a importação das bibliotecas necessárias."
   ]
  },
  {
   "cell_type": "code",
   "execution_count": 1,
   "metadata": {},
   "outputs": [],
   "source": [
    "import marcelo_solver.coef_pol as mcp\n",
    "import marcelo_solver.testes as mtt\n",
    "import matplotlib.pyplot as plt # Para plotagem de gráficos\n",
    "import numpy as np # Para métodos algébricos\n",
    "import traceback"
   ]
  },
  {
   "cell_type": "markdown",
   "metadata": {},
   "source": [
    "O módulo `coef_pol` do pacote `marcelo_solver` possui as funções para determinação dos coeficientes polinomiais, o módulo `testes` do mesmo pacote implementa testes automatizados simples para as funções de `coef_pol`.\n",
    "\n",
    "Para a função `cfcond_termica` que determina os coeficientes de condutividade térmica, a documentação pode ser consultada da seguinte forma:"
   ]
  },
  {
   "cell_type": "code",
   "execution_count": 2,
   "metadata": {},
   "outputs": [
    {
     "name": "stdout",
     "output_type": "stream",
     "text": [
      "Help on function cfcond_termica in module marcelo_solver.coef_pol:\n",
      "\n",
      "cfcond_termica(temp, unid='C', temps_inf_interval=[20, 800], temps_sup_interval=[800, 1515])\n",
      "    Determina o coeficiente de condutividade térmica para temperaturas \n",
      "    ou vetores de temperaturas.\n",
      "    \n",
      "    Recebe:\n",
      "    · temp(float ou ndarray) - temperaturas de cálculo. \n",
      "    · [unid(str)] - caractere 'C' ou 'K' para determinar a unidade de \n",
      "    temperatura \n",
      "    · [temps_inf_interval(list)] - lista de dois elementos com as \n",
      "    temperaturas inferior e superior para os polinômios de condutividade \n",
      "    térmica.\n",
      "    · [temps_sup_interval(list)] - lista de dois elementos com as \n",
      "    temperaturas inferior e superior para os polinômios de condutividade \n",
      "    térmica. \n",
      "    \n",
      "    Retorna:\n",
      "    · ndarray ou float  de condutividades térmicas em W/m.K\n",
      "\n"
     ]
    }
   ],
   "source": [
    "help(mcp.cfcond_termica)"
   ]
  },
  {
   "cell_type": "markdown",
   "metadata": {},
   "source": [
    "A documentação de `testes` pode ser consultada de forma semelhante. No código abaixo a função de teste da condutividade térmica é consultada."
   ]
  },
  {
   "cell_type": "code",
   "execution_count": 3,
   "metadata": {},
   "outputs": [
    {
     "name": "stdout",
     "output_type": "stream",
     "text": [
      "Help on function teste_condterm in module marcelo_solver.testes:\n",
      "\n",
      "teste_condterm(teste)\n",
      "    Realiza testes de funcionamento na função de determinação do \n",
      "    coeficiente de condutividade térmica.\n",
      "    \n",
      "    1° - Teste de operação sobre vetor de temperaturas válidas:\n",
      "    Recebe:\n",
      "    teste = \"VECTEMP-VAL\"\n",
      "        Este método cria um vetor no intervalo de temperaturas válido para\n",
      "        para o modelo de coeficiente de condutividade térmica.\n",
      "        Espera-se o cálculo correto dos valores de h expressos de forma gráfica.\n",
      "    \n",
      "    2° - Teste de operação sobre vetor de temperaturas com valores inválidos:\n",
      "    teste = \"VECTEMP-INVAL\"\n",
      "        Este método cria um vetor com valores fora do intervalo de \n",
      "        temperaturas válido para para o modelo de coeficiente de \n",
      "        condutividade térmica.\n",
      "        Espera-se o levantamento de erro durante a tentativa de execuação.\n",
      "    \n",
      "    3° - Teste de operação sobre escalares randômicos válidos:\n",
      "    teste = \"RANDTEMP-VAL\"\n",
      "        Neste método de teste, um gerador de números aleatórios é \n",
      "        recorrentemente chamado para gerar N valores no intervalo de \n",
      "        operação da função.\n",
      "        Espera-se o cálculo correto dos valores de h expressos de forma gráfica.\n",
      "\n"
     ]
    }
   ],
   "source": [
    "help(mtt.teste_condterm)"
   ]
  },
  {
   "cell_type": "markdown",
   "metadata": {},
   "source": [
    "O conjunto de funções disponíveis em cada módulo pode ser listado da seguinte forma:"
   ]
  },
  {
   "cell_type": "code",
   "execution_count": 4,
   "metadata": {},
   "outputs": [
    {
     "name": "stdout",
     "output_type": "stream",
     "text": [
      "['__builtins__', '__cached__', '__doc__', '__file__', '__loader__', '__name__', '__package__', '__spec__', 'calesp_vol', 'cfcond_termica', 'densidade', 'np']\n",
      "['__builtins__', '__cached__', '__doc__', '__file__', '__loader__', '__name__', '__package__', '__spec__', 'calesp_vol', 'cfcond_termica', 'densidade', 'np', 'plt', 'teste_condterm', 'teste_cv']\n"
     ]
    }
   ],
   "source": [
    "print(dir(mcp))\n",
    "print(dir(mtt))\n"
   ]
  },
  {
   "cell_type": "markdown",
   "metadata": {},
   "source": [
    "## Uso da função `cfcond_termica`\n",
    "\n",
    "Duas formas de uso são possíveis; na primeira delas escalares com valores de temperatura são passados para a função e um escalar com o valor do coeficiente é retornado."
   ]
  },
  {
   "cell_type": "code",
   "execution_count": 5,
   "metadata": {},
   "outputs": [
    {
     "data": {
      "text/plain": [
       "53.105895"
      ]
     },
     "execution_count": 5,
     "metadata": {},
     "output_type": "execute_result"
    }
   ],
   "source": [
    "mcp.cfcond_termica(300, 'K') # Temperatura 300K"
   ]
  },
  {
   "cell_type": "markdown",
   "metadata": {},
   "source": [
    "Opcionalmente o usuário pode optar por passar o valor de temperatura em °C."
   ]
  },
  {
   "cell_type": "code",
   "execution_count": 6,
   "metadata": {},
   "outputs": [
    {
     "data": {
      "text/plain": [
       "53.105895"
      ]
     },
     "execution_count": 6,
     "metadata": {},
     "output_type": "execute_result"
    }
   ],
   "source": [
    "mcp.cfcond_termica(26.85, 'C') # Temperatura 26,85 °C"
   ]
  },
  {
   "cell_type": "markdown",
   "metadata": {},
   "source": [
    "O intervalo de validade do modelo do coeficiente de condutividade térmica também pode ser modificado pelos parâmetros `temps_inf_interval`, e `temps_sup_interval`. Neste tipo de uso, a chamada à função fica na forma:"
   ]
  },
  {
   "cell_type": "code",
   "execution_count": 7,
   "metadata": {},
   "outputs": [
    {
     "data": {
      "text/plain": [
       "53.334"
      ]
     },
     "execution_count": 7,
     "metadata": {},
     "output_type": "execute_result"
    }
   ],
   "source": [
    "mcp.cfcond_termica(\n",
    "    20, 'C', \n",
    "    temps_inf_interval = [14,30]\n",
    ")"
   ]
  },
  {
   "cell_type": "code",
   "execution_count": 8,
   "metadata": {
    "code_folding": []
   },
   "outputs": [
    {
     "name": "stdout",
     "output_type": "stream",
     "text": [
      "ERRO!\n",
      "A temperatura 13.0 não é definida no intervalo detemperaturas do modelo:\n",
      "[14. 30.]\n",
      "[ 800. 1515.]\n"
     ]
    }
   ],
   "source": [
    "try:\n",
    "    mcp.cfcond_termica(13,temps_inf_interval = [14,30])\n",
    "except Exception as e:\n",
    "    print(e)"
   ]
  },
  {
   "cell_type": "code",
   "execution_count": 9,
   "metadata": {},
   "outputs": [
    {
     "data": {
      "text/plain": [
       "27.3"
      ]
     },
     "execution_count": 9,
     "metadata": {},
     "output_type": "execute_result"
    }
   ],
   "source": [
    "mcp.cfcond_termica(\n",
    "    1999, 'C', \n",
    "    temps_sup_interval = [900,2000]\n",
    ")"
   ]
  },
  {
   "cell_type": "markdown",
   "metadata": {},
   "source": [
    "A segunda forma de uso da função recebe como primeiro argumento um vetor de temperaturas em K ou °C, sendo a primeira unidade o parâmetro padrão. Quando um vetor é passado, a função retorna um *array* de duas linhas, na primeira delas, um vetor com as temperaturas para cálculo, e na segunda os coenficientes calculados.\n",
    "\n",
    "Isto é necessário pois a implementação atual do método realiza a filtragem automática dos valores válidos de temperatura quando valores inválidos são passados, truncando o intervalo original de temperatura apenas para um intervalo válido."
   ]
  },
  {
   "cell_type": "code",
   "execution_count": 10,
   "metadata": {},
   "outputs": [
    {
     "name": "stdout",
     "output_type": "stream",
     "text": [
      "Temperaturas (K):\n",
      " [ 37.  38.  39.  40.  41.  42.  43.  44.  45.  46.  47.  48.  49.  50.\n",
      "  51.  52.  53.  54.  55.  56.  57.  58.  59.  60.  61.  62.  63.  64.\n",
      "  65.  66.  67.  68.  69.  70.  71.  72.  73.  74.  75.  76.  77.  78.\n",
      "  79.  80.  81.  82.  83.  84.  85.  86.  87.  88.  89.  90.  91.  92.\n",
      "  93.  94.  95.  96.  97.  98.  99. 100. 101. 102. 103. 104. 105. 106.\n",
      " 107. 108. 109. 110. 111. 112. 113. 114. 115. 116. 117. 118. 119. 120.\n",
      " 121. 122. 123. 124. 125. 126. 127. 128. 129. 130. 131. 132. 133. 134.\n",
      " 135. 136. 137. 138. 139. 140. 141. 142. 143. 144. 145. 146. 147. 148.\n",
      " 149. 150. 151. 152. 153. 154. 155. 156. 157. 158. 159. 160. 161. 162.\n",
      " 163. 164. 165. 166. 167. 168. 169. 170. 171. 172. 173. 174. 175. 176.\n",
      " 177. 178. 179. 180. 181. 182. 183. 184. 185. 186. 187. 188. 189. 190.\n",
      " 191. 192. 193. 194. 195. 196. 197. 198. 199. 200. 201. 202. 203. 204.\n",
      " 205. 206. 207. 208. 209. 210. 211. 212. 213. 214. 215. 216. 217. 218.\n",
      " 219. 220. 221. 222. 223. 224. 225. 226. 227. 228. 229. 230. 231. 232.\n",
      " 233. 234. 235. 236. 237. 238. 239. 240. 241. 242. 243. 244. 245. 246.\n",
      " 247. 248. 249. 250. 251. 252. 253. 254. 255. 256. 257. 258. 259. 260.\n",
      " 261. 262. 263. 264. 265. 266. 267. 268. 269. 270. 271. 272. 273. 274.\n",
      " 275. 276. 277. 278. 279. 280. 281. 282. 283. 284. 285. 286. 287. 288.\n",
      " 289. 290. 291. 292. 293. 294. 295. 296. 297. 298. 299. 300. 301. 302.\n",
      " 303. 304. 305. 306. 307. 308. 309. 310. 311. 312. 313. 314. 315. 316.\n",
      " 317. 318. 319. 320. 321. 322. 323. 324. 325. 326. 327. 328. 329. 330.\n",
      " 331. 332. 333. 334. 335. 336. 337. 338. 339. 340. 341. 342. 343. 344.\n",
      " 345. 346. 347. 348. 349. 350. 351. 352. 353. 354. 355. 356. 357. 358.\n",
      " 359. 360. 361. 362. 363. 364. 365. 366. 367. 368. 369. 370. 371. 372.\n",
      " 373. 374. 375. 376. 377. 378. 379. 380. 381. 382. 383. 384. 385. 386.\n",
      " 387. 388. 389. 390. 391. 392. 393. 394. 395. 396. 397. 398. 399. 400.\n",
      " 401. 402. 403. 404. 405. 406. 407. 408. 409. 410. 411. 412. 413. 414.\n",
      " 415. 416. 417. 418. 419. 420. 421. 422. 423. 424. 425. 426. 427. 428.\n",
      " 429. 430. 431. 432. 433. 434. 435. 436. 437. 438. 439. 440. 441. 442.\n",
      " 443. 444. 445. 446. 447. 448. 449. 450. 451. 452. 453. 454. 455. 456.\n",
      " 457. 458. 459. 460. 461. 462. 463. 464. 465. 466. 467. 468. 469. 470.\n",
      " 471. 472. 473. 474. 475. 476. 477. 478. 479. 480. 481. 482. 483. 484.\n",
      " 485. 486. 487. 488. 489. 490. 491. 492. 493. 494. 495. 496. 497. 498.\n",
      " 499.]\n"
     ]
    }
   ],
   "source": [
    "matriz = mcp.cfcond_termica(np.arange(37.,500.), 'c')\n",
    "print(\"Temperaturas (K):\\n\", matriz[0])"
   ]
  },
  {
   "cell_type": "code",
   "execution_count": 11,
   "metadata": {},
   "outputs": [
    {
     "name": "stdout",
     "output_type": "stream",
     "text": [
      "Coeficientes:\n",
      " [52.7679 52.7346 52.7013 52.668  52.6347 52.6014 52.5681 52.5348 52.5015\n",
      " 52.4682 52.4349 52.4016 52.3683 52.335  52.3017 52.2684 52.2351 52.2018\n",
      " 52.1685 52.1352 52.1019 52.0686 52.0353 52.002  51.9687 51.9354 51.9021\n",
      " 51.8688 51.8355 51.8022 51.7689 51.7356 51.7023 51.669  51.6357 51.6024\n",
      " 51.5691 51.5358 51.5025 51.4692 51.4359 51.4026 51.3693 51.336  51.3027\n",
      " 51.2694 51.2361 51.2028 51.1695 51.1362 51.1029 51.0696 51.0363 51.003\n",
      " 50.9697 50.9364 50.9031 50.8698 50.8365 50.8032 50.7699 50.7366 50.7033\n",
      " 50.67   50.6367 50.6034 50.5701 50.5368 50.5035 50.4702 50.4369 50.4036\n",
      " 50.3703 50.337  50.3037 50.2704 50.2371 50.2038 50.1705 50.1372 50.1039\n",
      " 50.0706 50.0373 50.004  49.9707 49.9374 49.9041 49.8708 49.8375 49.8042\n",
      " 49.7709 49.7376 49.7043 49.671  49.6377 49.6044 49.5711 49.5378 49.5045\n",
      " 49.4712 49.4379 49.4046 49.3713 49.338  49.3047 49.2714 49.2381 49.2048\n",
      " 49.1715 49.1382 49.1049 49.0716 49.0383 49.005  48.9717 48.9384 48.9051\n",
      " 48.8718 48.8385 48.8052 48.7719 48.7386 48.7053 48.672  48.6387 48.6054\n",
      " 48.5721 48.5388 48.5055 48.4722 48.4389 48.4056 48.3723 48.339  48.3057\n",
      " 48.2724 48.2391 48.2058 48.1725 48.1392 48.1059 48.0726 48.0393 48.006\n",
      " 47.9727 47.9394 47.9061 47.8728 47.8395 47.8062 47.7729 47.7396 47.7063\n",
      " 47.673  47.6397 47.6064 47.5731 47.5398 47.5065 47.4732 47.4399 47.4066\n",
      " 47.3733 47.34   47.3067 47.2734 47.2401 47.2068 47.1735 47.1402 47.1069\n",
      " 47.0736 47.0403 47.007  46.9737 46.9404 46.9071 46.8738 46.8405 46.8072\n",
      " 46.7739 46.7406 46.7073 46.674  46.6407 46.6074 46.5741 46.5408 46.5075\n",
      " 46.4742 46.4409 46.4076 46.3743 46.341  46.3077 46.2744 46.2411 46.2078\n",
      " 46.1745 46.1412 46.1079 46.0746 46.0413 46.008  45.9747 45.9414 45.9081\n",
      " 45.8748 45.8415 45.8082 45.7749 45.7416 45.7083 45.675  45.6417 45.6084\n",
      " 45.5751 45.5418 45.5085 45.4752 45.4419 45.4086 45.3753 45.342  45.3087\n",
      " 45.2754 45.2421 45.2088 45.1755 45.1422 45.1089 45.0756 45.0423 45.009\n",
      " 44.9757 44.9424 44.9091 44.8758 44.8425 44.8092 44.7759 44.7426 44.7093\n",
      " 44.676  44.6427 44.6094 44.5761 44.5428 44.5095 44.4762 44.4429 44.4096\n",
      " 44.3763 44.343  44.3097 44.2764 44.2431 44.2098 44.1765 44.1432 44.1099\n",
      " 44.0766 44.0433 44.01   43.9767 43.9434 43.9101 43.8768 43.8435 43.8102\n",
      " 43.7769 43.7436 43.7103 43.677  43.6437 43.6104 43.5771 43.5438 43.5105\n",
      " 43.4772 43.4439 43.4106 43.3773 43.344  43.3107 43.2774 43.2441 43.2108\n",
      " 43.1775 43.1442 43.1109 43.0776 43.0443 43.011  42.9777 42.9444 42.9111\n",
      " 42.8778 42.8445 42.8112 42.7779 42.7446 42.7113 42.678  42.6447 42.6114\n",
      " 42.5781 42.5448 42.5115 42.4782 42.4449 42.4116 42.3783 42.345  42.3117\n",
      " 42.2784 42.2451 42.2118 42.1785 42.1452 42.1119 42.0786 42.0453 42.012\n",
      " 41.9787 41.9454 41.9121 41.8788 41.8455 41.8122 41.7789 41.7456 41.7123\n",
      " 41.679  41.6457 41.6124 41.5791 41.5458 41.5125 41.4792 41.4459 41.4126\n",
      " 41.3793 41.346  41.3127 41.2794 41.2461 41.2128 41.1795 41.1462 41.1129\n",
      " 41.0796 41.0463 41.013  40.9797 40.9464 40.9131 40.8798 40.8465 40.8132\n",
      " 40.7799 40.7466 40.7133 40.68   40.6467 40.6134 40.5801 40.5468 40.5135\n",
      " 40.4802 40.4469 40.4136 40.3803 40.347  40.3137 40.2804 40.2471 40.2138\n",
      " 40.1805 40.1472 40.1139 40.0806 40.0473 40.014  39.9807 39.9474 39.9141\n",
      " 39.8808 39.8475 39.8142 39.7809 39.7476 39.7143 39.681  39.6477 39.6144\n",
      " 39.5811 39.5478 39.5145 39.4812 39.4479 39.4146 39.3813 39.348  39.3147\n",
      " 39.2814 39.2481 39.2148 39.1815 39.1482 39.1149 39.0816 39.0483 39.015\n",
      " 38.9817 38.9484 38.9151 38.8818 38.8485 38.8152 38.7819 38.7486 38.7153\n",
      " 38.682  38.6487 38.6154 38.5821 38.5488 38.5155 38.4822 38.4489 38.4156\n",
      " 38.3823 38.349  38.3157 38.2824 38.2491 38.2158 38.1825 38.1492 38.1159\n",
      " 38.0826 38.0493 38.016  37.9827 37.9494 37.9161 37.8828 37.8495 37.8162\n",
      " 37.7829 37.7496 37.7163 37.683  37.6497 37.6164 37.5831 37.5498 37.5165\n",
      " 37.4832 37.4499 37.4166 37.3833]\n"
     ]
    }
   ],
   "source": [
    "print(\"Coeficientes:\\n\", matriz[1])"
   ]
  },
  {
   "cell_type": "markdown",
   "metadata": {},
   "source": [
    "Note que por padrão, apenas temperaturas acima de 20°C são válidas. Note como a função realiza a truncagem de forma automatizada."
   ]
  },
  {
   "cell_type": "code",
   "execution_count": 12,
   "metadata": {},
   "outputs": [
    {
     "name": "stdout",
     "output_type": "stream",
     "text": [
      "Temperaturas (K):\n",
      " [20.46153846 21.        ]\n",
      "Coeficientes:\n",
      " [53.31863077 53.3007    ]\n"
     ]
    }
   ],
   "source": [
    "matriz = mcp.cfcond_termica(np.linspace(0.,21., 40), 'c') # Vetor de temperaturas entre 0 e 21°C com 40 elementos\n",
    "\n",
    "print(\"Temperaturas (K):\\n\", matriz[0])\n",
    "print(\"Coeficientes:\\n\", matriz[1])"
   ]
  },
  {
   "cell_type": "markdown",
   "metadata": {},
   "source": [
    "## Teste da função `cfcond_termica`\n",
    "\n",
    "### Teste de operação sobre um vetor de temperaturas válido\n",
    "\n",
    "Note que nenhuma personalização é aplicada ao gráfico, ficando ao critério do usuário fazê-lo. \n",
    "Os objetos retornados `fig` e `ax` são nativos do [Maplotlib](https://matplotlib.org/), onde a documentação para os métodos de [Axis](https://matplotlib.org/stable/api/axis_api.html) e [Figure](https://matplotlib.org/stable/api/figure_api.html#module-matplotlib.figure) podem ser consultadas."
   ]
  },
  {
   "cell_type": "code",
   "execution_count": 13,
   "metadata": {},
   "outputs": [
    {
     "name": "stdout",
     "output_type": "stream",
     "text": [
      "Testes na função cfcond_termica().\n"
     ]
    },
    {
     "data": {
      "image/png": "[encoded data removed]",
      "text/plain": [
       "<Figure size 640x480 with 1 Axes>"
      ]
     },
     "metadata": {},
     "output_type": "display_data"
    }
   ],
   "source": [
    "fig, ax = mtt.teste_condterm(\"VECTEMP-VAL\")\n",
    "ax.set_ylim(bottom=0)\n",
    "ax.grid()\n",
    "plt.show()"
   ]
  },
  {
   "cell_type": "markdown",
   "metadata": {},
   "source": [
    "### Teste de operação sobre um vetor de temperaturas parcialmente válido"
   ]
  },
  {
   "cell_type": "code",
   "execution_count": 14,
   "metadata": {},
   "outputs": [
    {
     "name": "stdout",
     "output_type": "stream",
     "text": [
      "Testes na função cfcond_termica().\n",
      "Testando um vetor de temperaturas entre 0.0 e 1999.9\n"
     ]
    },
    {
     "data": {
      "image/png": "[encoded data removed]",
      "text/plain": [
       "<Figure size 640x480 with 1 Axes>"
      ]
     },
     "metadata": {},
     "output_type": "display_data"
    }
   ],
   "source": [
    "fig, ax = mtt.teste_condterm(\"VECTEMP-PARC-INVAL\")\n",
    "ax.set_ylim(bottom=0)\n",
    "ax.grid()\n",
    "plt.show()"
   ]
  },
  {
   "cell_type": "markdown",
   "metadata": {},
   "source": [
    "### Teste de operação randômica"
   ]
  },
  {
   "cell_type": "code",
   "execution_count": 15,
   "metadata": {},
   "outputs": [
    {
     "name": "stdout",
     "output_type": "stream",
     "text": [
      "Testes na função cfcond_termica().\n"
     ]
    },
    {
     "data": {
      "image/png": "[encoded data removed]",
      "text/plain": [
       "<Figure size 640x480 with 1 Axes>"
      ]
     },
     "metadata": {},
     "output_type": "display_data"
    }
   ],
   "source": [
    "fig, ax = mtt.teste_condterm(\"RANDTEMP-VAL\")\n",
    "ax.set_ylim(bottom=0)\n",
    "ax.grid()\n",
    "plt.show()"
   ]
  },
  {
   "cell_type": "markdown",
   "metadata": {},
   "source": [
    "## Uso da função `calesp_vol`\n",
    "\n",
    "A interface de uso da função de determinação dos calores específicos volumares `calesp_vol` segue o padrão da anterior, conforme pode ser visto na documentação."
   ]
  },
  {
   "cell_type": "code",
   "execution_count": 16,
   "metadata": {},
   "outputs": [
    {
     "name": "stdout",
     "output_type": "stream",
     "text": [
      "Help on function calesp_vol in module marcelo_solver.coef_pol:\n",
      "\n",
      "calesp_vol(temp, unid='C', temps_itv_1=[20.0, 600.0], temps_itv_2=[600.0, 735.0], temps_itv_3=[735.0, 900.0], temps_itv_4=[900.0, 1515.0])\n",
      "    Determina o calor específico volumar para temperaturas (escalar)\n",
      "    ou vetores de temperaturas.\n",
      "    \n",
      "    Recebe:\n",
      "    · temp(float ou ndarray) - temperaturas de cálculo. \n",
      "    · [unid(str)] - caractere 'C' ou 'K' para determinar a unidade de \n",
      "    temperatura \n",
      "    · [temps_itv_1(list)] - lista de dois elementos com as \n",
      "    temperaturas inferior e superior para o primeiro polinômio de cv.\n",
      "    · [temps_itv_2(list)] - lista de dois elementos com as \n",
      "    temperaturas inferior e superior para o segundo polinômio de cv.\n",
      "    · [temps_itv_3(list)] - lista de dois elementos com as \n",
      "    temperaturas inferior e superior para o terceiro polinômio de cv.\n",
      "    · [temps_itv_4(list)] - lista de dois elementos com as \n",
      "    temperaturas inferior e superior para o quarto polinômio de cv.\n",
      "    \n",
      "    Retorna:\n",
      "    · ndarray ou float  de calores específicos volumares em J/kg.K\n",
      "\n"
     ]
    }
   ],
   "source": [
    "help(mcp.calesp_vol)"
   ]
  },
  {
   "cell_type": "markdown",
   "metadata": {},
   "source": [
    "Nas células abaixo a função é utilizada com os mesmos parâmetros empregados nos exemplos anteriores."
   ]
  },
  {
   "cell_type": "code",
   "execution_count": 17,
   "metadata": {},
   "outputs": [
    {
     "data": {
      "text/plain": [
       "444.5796630024575"
      ]
     },
     "execution_count": 17,
     "metadata": {},
     "output_type": "execute_result"
    }
   ],
   "source": [
    "mcp.calesp_vol(26.85) # Temperatura 26,85 °C"
   ]
  },
  {
   "cell_type": "code",
   "execution_count": 18,
   "metadata": {},
   "outputs": [
    {
     "data": {
      "text/plain": [
       "444.57966300245755"
      ]
     },
     "execution_count": 18,
     "metadata": {},
     "output_type": "execute_result"
    }
   ],
   "source": [
    "mcp.calesp_vol(300, 'K') # Temperatura 300K"
   ]
  },
  {
   "cell_type": "code",
   "execution_count": 19,
   "metadata": {},
   "outputs": [
    {
     "data": {
      "text/plain": [
       "439.80176"
      ]
     },
     "execution_count": 19,
     "metadata": {},
     "output_type": "execute_result"
    }
   ],
   "source": [
    "mcp.calesp_vol(20, temps_itv_1 = [14,30])"
   ]
  },
  {
   "cell_type": "code",
   "execution_count": 20,
   "metadata": {},
   "outputs": [
    {
     "name": "stdout",
     "output_type": "stream",
     "text": [
      "ERRO!\n",
      "A temperatura 13.0 não é definida no intervalo detemperaturas do modelo.\n"
     ]
    }
   ],
   "source": [
    "try:\n",
    "    mcp.calesp_vol(13,temps_itv_1 = [14,30])\n",
    "except Exception as e:\n",
    "    print(e)"
   ]
  },
  {
   "cell_type": "code",
   "execution_count": 21,
   "metadata": {},
   "outputs": [
    {
     "data": {
      "text/plain": [
       "12950.358627779999"
      ]
     },
     "execution_count": 21,
     "metadata": {},
     "output_type": "execute_result"
    }
   ],
   "source": [
    "mcp.calesp_vol(1999, temps_itv_1 = [900,2000])"
   ]
  },
  {
   "cell_type": "code",
   "execution_count": 22,
   "metadata": {},
   "outputs": [
    {
     "name": "stdout",
     "output_type": "stream",
     "text": [
      "Temperaturas (K):\n",
      " [ 37.  38.  39.  40.  41.  42.  43.  44.  45.  46.  47.  48.  49.  50.\n",
      "  51.  52.  53.  54.  55.  56.  57.  58.  59.  60.  61.  62.  63.  64.\n",
      "  65.  66.  67.  68.  69.  70.  71.  72.  73.  74.  75.  76.  77.  78.\n",
      "  79.  80.  81.  82.  83.  84.  85.  86.  87.  88.  89.  90.  91.  92.\n",
      "  93.  94.  95.  96.  97.  98.  99. 100. 101. 102. 103. 104. 105. 106.\n",
      " 107. 108. 109. 110. 111. 112. 113. 114. 115. 116. 117. 118. 119. 120.\n",
      " 121. 122. 123. 124. 125. 126. 127. 128. 129. 130. 131. 132. 133. 134.\n",
      " 135. 136. 137. 138. 139. 140. 141. 142. 143. 144. 145. 146. 147. 148.\n",
      " 149. 150. 151. 152. 153. 154. 155. 156. 157. 158. 159. 160. 161. 162.\n",
      " 163. 164. 165. 166. 167. 168. 169. 170. 171. 172. 173. 174. 175. 176.\n",
      " 177. 178. 179. 180. 181. 182. 183. 184. 185. 186. 187. 188. 189. 190.\n",
      " 191. 192. 193. 194. 195. 196. 197. 198. 199. 200. 201. 202. 203. 204.\n",
      " 205. 206. 207. 208. 209. 210. 211. 212. 213. 214. 215. 216. 217. 218.\n",
      " 219. 220. 221. 222. 223. 224. 225. 226. 227. 228. 229. 230. 231. 232.\n",
      " 233. 234. 235. 236. 237. 238. 239. 240. 241. 242. 243. 244. 245. 246.\n",
      " 247. 248. 249. 250. 251. 252. 253. 254. 255. 256. 257. 258. 259. 260.\n",
      " 261. 262. 263. 264. 265. 266. 267. 268. 269. 270. 271. 272. 273. 274.\n",
      " 275. 276. 277. 278. 279. 280. 281. 282. 283. 284. 285. 286. 287. 288.\n",
      " 289. 290. 291. 292. 293. 294. 295. 296. 297. 298. 299. 300. 301. 302.\n",
      " 303. 304. 305. 306. 307. 308. 309. 310. 311. 312. 313. 314. 315. 316.\n",
      " 317. 318. 319. 320. 321. 322. 323. 324. 325. 326. 327. 328. 329. 330.\n",
      " 331. 332. 333. 334. 335. 336. 337. 338. 339. 340. 341. 342. 343. 344.\n",
      " 345. 346. 347. 348. 349. 350. 351. 352. 353. 354. 355. 356. 357. 358.\n",
      " 359. 360. 361. 362. 363. 364. 365. 366. 367. 368. 369. 370. 371. 372.\n",
      " 373. 374. 375. 376. 377. 378. 379. 380. 381. 382. 383. 384. 385. 386.\n",
      " 387. 388. 389. 390. 391. 392. 393. 394. 395. 396. 397. 398. 399. 400.\n",
      " 401. 402. 403. 404. 405. 406. 407. 408. 409. 410. 411. 412. 413. 414.\n",
      " 415. 416. 417. 418. 419. 420. 421. 422. 423. 424. 425. 426. 427. 428.\n",
      " 429. 430. 431. 432. 433. 434. 435. 436. 437. 438. 439. 440. 441. 442.\n",
      " 443. 444. 445. 446. 447. 448. 449. 450. 451. 452. 453. 454. 455. 456.\n",
      " 457. 458. 459. 460. 461. 462. 463. 464. 465. 466. 467. 468. 469. 470.\n",
      " 471. 472. 473. 474. 475. 476. 477. 478. 479. 480. 481. 482. 483. 484.\n",
      " 485. 486. 487. 488. 489. 490. 491. 492. 493. 494. 495. 496. 497. 498.\n",
      " 499.]\n"
     ]
    }
   ],
   "source": [
    "matriz = mcp.calesp_vol(np.arange(37.,500.))\n",
    "print(\"Temperaturas (K):\\n\", matriz[0])"
   ]
  },
  {
   "cell_type": "code",
   "execution_count": 23,
   "metadata": {},
   "outputs": [
    {
     "name": "stdout",
     "output_type": "stream",
     "text": [
      "Coeficientes:\n",
      " [451.39983966 452.05545584 452.70819818 453.35808    454.00511462\n",
      " 454.64931536 455.29069554 455.92926848 456.5650475  457.19804592\n",
      " 457.82827706 458.45575424 459.08049078 459.7025     460.32179522\n",
      " 460.93838976 461.55229694 462.16353008 462.7721025  463.37802752\n",
      " 463.98131846 464.58198864 465.18005138 465.77552    466.36840782\n",
      " 466.95872816 467.54649434 468.13171968 468.7144175  469.29460112\n",
      " 469.87228386 470.44747904 471.02019998 471.59046    472.15827242\n",
      " 472.72365056 473.28660774 473.84715728 474.4053125  474.96108672\n",
      " 475.51449326 476.06554544 476.61425658 477.16064    477.70470902\n",
      " 478.24647696 478.78595714 479.32316288 479.8581075  480.39080432\n",
      " 480.92126666 481.44950784 481.97554118 482.49938    483.02103762\n",
      " 483.54052736 484.05786254 484.57305648 485.0861225  485.59707392\n",
      " 486.10592406 486.61268624 487.11737378 487.62       488.12057822\n",
      " 488.61912176 489.11564394 489.61015808 490.1026775  490.59321552\n",
      " 491.08178546 491.56840064 492.05307438 492.53582    493.01665082\n",
      " 493.49558016 493.97262134 494.44778768 494.9210925  495.39254912\n",
      " 495.86217086 496.32997104 496.79596298 497.26016    497.72257542\n",
      " 498.18322256 498.64211474 499.09926528 499.5546875  500.00839472\n",
      " 500.46040026 500.91071744 501.35935958 501.80634    502.25167202\n",
      " 502.69536896 503.13744414 503.57791088 504.0167825  504.45407232\n",
      " 504.88979366 505.32395984 505.75658418 506.18768    506.61726062\n",
      " 507.04533936 507.47192954 507.89704448 508.3206975  508.74290192\n",
      " 509.16367106 509.58301824 510.00095678 510.4175     510.83266122\n",
      " 511.24645376 511.65889094 512.06998608 512.4797525  512.88820352\n",
      " 513.29535246 513.70121264 514.10579738 514.50912    514.91119382\n",
      " 515.31203216 515.71164834 516.11005568 516.5072675  516.90329712\n",
      " 517.29815786 517.69186304 518.08442598 518.47586    518.86617842\n",
      " 519.25539456 519.64352174 520.03057328 520.4165625  520.80150272\n",
      " 521.18540726 521.56828944 521.95016258 522.33104    522.71093502\n",
      " 523.08986096 523.46783114 523.84485888 524.2209575  524.59614032\n",
      " 524.97042066 525.34381184 525.71632718 526.08798    526.45878362\n",
      " 526.82875136 527.19789654 527.56623248 527.9337725  528.30052992\n",
      " 528.66651806 529.03175024 529.39623978 529.76       530.12304422\n",
      " 530.48538576 530.84703794 531.20801408 531.5683275  531.92799152\n",
      " 532.28701946 532.64542464 533.00322038 533.36042    533.71703682\n",
      " 534.07308416 534.42857534 534.78352368 535.1379425  535.49184512\n",
      " 535.84524486 536.19815504 536.55058898 536.90256    537.25408142\n",
      " 537.60516656 537.95582874 538.30608128 538.6559375  539.00541072\n",
      " 539.35451426 539.70326144 540.05166558 540.39974    540.74749802\n",
      " 541.09495296 541.44211814 541.78900688 542.1356325  542.48200832\n",
      " 542.82814766 543.17406384 543.51977018 543.86528    544.21060662\n",
      " 544.55576336 544.90076354 545.24562048 545.5903475  545.93495792\n",
      " 546.27946506 546.62388224 546.96822278 547.3125     547.65672722\n",
      " 548.00091776 548.34508494 548.68924208 549.0334025  549.37757952\n",
      " 549.72178646 550.06603664 550.41034338 550.75472    551.09917982\n",
      " 551.44373616 551.78840234 552.13319168 552.4781175  552.82319312\n",
      " 553.16843186 553.51384704 553.85945198 554.20526    554.55128442\n",
      " 554.89753856 555.24403574 555.59078928 555.9378125  556.28511872\n",
      " 556.63272126 556.98063344 557.32886858 557.67744    558.02636102\n",
      " 558.37564496 558.72530514 559.07535488 559.4258075  559.77667632\n",
      " 560.12797466 560.47971584 560.83191318 561.18458    561.53772962\n",
      " 561.89137536 562.24553054 562.60020848 562.9554225  563.31118592\n",
      " 563.66751206 564.02441424 564.38190578 564.74       565.09871022\n",
      " 565.45804976 565.81803194 566.17867008 566.5399775  566.90196752\n",
      " 567.26465346 567.62804864 567.99216638 568.35702    568.72262282\n",
      " 569.08898816 569.45612934 569.82405968 570.1927925  570.56234112\n",
      " 570.93271886 571.30393904 571.67601498 572.04896    572.42278742\n",
      " 572.79751056 573.17314274 573.54969728 573.9271875  574.30562672\n",
      " 574.68502826 575.06540544 575.44677158 575.82914    576.21252402\n",
      " 576.59693696 576.98239214 577.36890288 577.7564825  578.14514432\n",
      " 578.53490166 578.92576784 579.31775618 579.71088    580.10515262\n",
      " 580.50058736 580.89719754 581.29499648 581.6939975  582.09421392\n",
      " 582.49565906 582.89834624 583.30228878 583.7075     584.11399322\n",
      " 584.52178176 584.93087894 585.34129808 585.7530525  586.16615552\n",
      " 586.58062046 586.99646064 587.41368938 587.83232    588.25236582\n",
      " 588.67384016 589.09675634 589.52112768 589.9469675  590.37428912\n",
      " 590.80310586 591.23343104 591.66527798 592.09866    592.53359042\n",
      " 592.97008256 593.40814974 593.84780528 594.2890625  594.73193472\n",
      " 595.17643526 595.62257744 596.07037458 596.51984    596.97098702\n",
      " 597.42382896 597.87837914 598.33465088 598.7926575  599.25241232\n",
      " 599.71392866 600.17721984 600.64229918 601.10918    601.57787562\n",
      " 602.04839936 602.52076454 602.99498448 603.4710725  603.94904192\n",
      " 604.42890606 604.91067824 605.39437178 605.88       606.36757622\n",
      " 606.85711376 607.34862594 607.84212608 608.3376275  608.83514352\n",
      " 609.33468746 609.83627264 610.33991238 610.84562    611.35340882\n",
      " 611.86329216 612.37528334 612.88939568 613.4056425  613.92403712\n",
      " 614.44459286 614.96732304 615.49224098 616.01936    616.54869342\n",
      " 617.08025456 617.61405674 618.15011328 618.6884375  619.22904272\n",
      " 619.77194226 620.31714944 620.86467758 621.41454    621.96675002\n",
      " 622.52132096 623.07826614 623.63759888 624.1993325  624.76348032\n",
      " 625.33005566 625.89907184 626.47054218 627.04448    627.62089862\n",
      " 628.19981136 628.78123154 629.36517248 629.9516475  630.54066992\n",
      " 631.13225306 631.72641024 632.32315478 632.9225     633.52445922\n",
      " 634.12904576 634.73627294 635.34615408 635.9587025  636.57393152\n",
      " 637.19185446 637.81248464 638.43583538 639.06192    639.69075182\n",
      " 640.32234416 640.95671034 641.59386368 642.2338175  642.87658512\n",
      " 643.52217986 644.17061504 644.82190398 645.47606    646.13309642\n",
      " 646.79302656 647.45586374 648.12162128 648.7903125  649.46195072\n",
      " 650.13654926 650.81412144 651.49468058 652.17824    652.86481302\n",
      " 653.55441296 654.24705314 654.94274688 655.6415075  656.34334832\n",
      " 657.04828266 657.75632384 658.46748518 659.18178    659.89922162\n",
      " 660.61982336 661.34359854 662.07056048 662.8007225  663.53409792\n",
      " 664.27070006 665.01054224 665.75363778]\n"
     ]
    }
   ],
   "source": [
    "print(\"Coeficientes:\\n\", matriz[1])"
   ]
  },
  {
   "cell_type": "code",
   "execution_count": 24,
   "metadata": {},
   "outputs": [
    {
     "name": "stdout",
     "output_type": "stream",
     "text": [
      "Temperaturas (K):\n",
      " [20.46153846 21.        ]\n",
      "Coeficientes:\n",
      " [440.12822736 440.50826942]\n"
     ]
    }
   ],
   "source": [
    "matriz = mcp.calesp_vol(np.linspace(0.,21., 40)) # Vetor de temperaturas entre 0 e 21°C com 40 elementos\n",
    "\n",
    "print(\"Temperaturas (K):\\n\", matriz[0])\n",
    "print(\"Coeficientes:\\n\", matriz[1])"
   ]
  },
  {
   "cell_type": "markdown",
   "metadata": {},
   "source": [
    "## Teste da função `calesp_vol`\n",
    "\n",
    "### Teste de operação sobre um vetor de temperaturas válido"
   ]
  },
  {
   "cell_type": "code",
   "execution_count": 25,
   "metadata": {},
   "outputs": [
    {
     "name": "stdout",
     "output_type": "stream",
     "text": [
      "Testes na função teste_cv().\n"
     ]
    },
    {
     "data": {
      "image/png": "[encoded data removed]",
      "text/plain": [
       "<Figure size 640x480 with 1 Axes>"
      ]
     },
     "metadata": {},
     "output_type": "display_data"
    }
   ],
   "source": [
    "fig, ax = mtt.teste_cv(\"VECTEMP-VAL\")\n",
    "ax.grid()"
   ]
  },
  {
   "cell_type": "markdown",
   "metadata": {},
   "source": [
    "### Teste de operação sobre um vetor de temperaturas parcialmente válido\n",
    "Note a truncagem do eixo horizontal."
   ]
  },
  {
   "cell_type": "code",
   "execution_count": 26,
   "metadata": {},
   "outputs": [
    {
     "name": "stdout",
     "output_type": "stream",
     "text": [
      "Testes na função teste_cv().\n",
      "Testando um vetor de temperaturas entre 0.0 e 1999.9\n"
     ]
    },
    {
     "data": {
      "image/png": "[encoded data removed]",
      "text/plain": [
       "<Figure size 640x480 with 1 Axes>"
      ]
     },
     "metadata": {},
     "output_type": "display_data"
    }
   ],
   "source": [
    "fig, ax = mtt.teste_cv(\"VECTEMP-PARC-INVAL\")\n",
    "ax.grid()"
   ]
  },
  {
   "cell_type": "markdown",
   "metadata": {},
   "source": [
    "### Teste de operação randômica "
   ]
  },
  {
   "cell_type": "code",
   "execution_count": 27,
   "metadata": {},
   "outputs": [
    {
     "name": "stdout",
     "output_type": "stream",
     "text": [
      "Testes na função teste_cv().\n"
     ]
    },
    {
     "data": {
      "image/png": "[encoded data removed]",
      "text/plain": [
       "<Figure size 640x480 with 1 Axes>"
      ]
     },
     "metadata": {},
     "output_type": "display_data"
    }
   ],
   "source": [
    "fig, ax = mtt.teste_cv(\"RANDTEMP-VAL\")\n",
    "ax.grid()"
   ]
  },
  {
   "cell_type": "code",
   "execution_count": null,
   "metadata": {},
   "outputs": [],
   "source": []
  }
 ],
 "metadata": {
  "kernelspec": {
   "display_name": "Python 3 (ipykernel)",
   "language": "python",
   "name": "python3"
  },
  "language_info": {
   "codemirror_mode": {
    "name": "ipython",
    "version": 3
   },
   "file_extension": ".py",
   "mimetype": "text/x-python",
   "name": "python",
   "nbconvert_exporter": "python",
   "pygments_lexer": "ipython3",
   "version": "3.9.15"
  },
  "vscode": {
   "interpreter": {
    "hash": "bb4158b8629297ca0544f02399afc2b84b17698598cc597108eba54c058fa260"
   }
  }
 },
 "nbformat": 4,
 "nbformat_minor": 4
}
