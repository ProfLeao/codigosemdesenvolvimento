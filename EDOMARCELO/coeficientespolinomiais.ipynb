{
 "cells": [
  {
   "cell_type": "markdown",
   "metadata": {},
   "source": [
    "# Uso das funções de determinação dos coeficientes polinomiais\n",
    "\n",
    "Este notebook apresenta as formas de uso e teste das funções de determinação dos coeficientes polinomiais.\n",
    "Testes automatizados simples são implementados para verificação das funcionalidades."
   ]
  },
  {
   "cell_type": "markdown",
   "metadata": {},
   "source": [
    "A célula de código abaixo realiza a importação das bibliotecas necessárias."
   ]
  },
  {
   "cell_type": "code",
   "execution_count": 1,
   "metadata": {},
   "outputs": [],
   "source": [
    "import marcelo_solver.coef_pol as mcp\n",
    "import marcelo_solver.testes as mtt\n",
    "import matplotlib.pyplot as plt # Para plotagem de gráficos\n",
    "import numpy as np # Para métodos algébricos\n",
    "import traceback"
   ]
  },
  {
   "cell_type": "markdown",
   "metadata": {},
   "source": [
    "O módulo `coef_pol` do pacote `marcelo_solver` possui as funções para determinação dos coeficientes polinomiais, o módulo `testes` do mesmo pacote implementa testes automatizados simples para as funções de `coef_pol`.\n",
    "\n",
    "Para a função `cfcond_termica` que determina os coeficientes de condutividade térmica, a documentação pode ser consultada da seguinte forma:"
   ]
  },
  {
   "cell_type": "code",
   "execution_count": 2,
   "metadata": {},
   "outputs": [
    {
     "name": "stdout",
     "output_type": "stream",
     "text": [
      "Help on function cfcond_termica in module marcelo_solver.coef_pol:\n",
      "\n",
      "cfcond_termica(temp, unid='C', temps_inf_interval=[20, 800], temps_sup_interval=[800, 1515])\n",
      "    Determina o coeficiente de condutividade térmica para temperaturas \n",
      "    ou vetores de temperaturas.\n",
      "    \n",
      "    Recebe:\n",
      "    · temp(float ou ndarray) - temperaturas de cálculo. \n",
      "    · [unid(str)] - caractere 'C' ou 'K' para determinar a unidade de \n",
      "    temperatura \n",
      "    · [temps_inf_interval(list)] - lista de dois elementos com as \n",
      "    temperaturas inferior e superior para os polinômios de condutividade \n",
      "    térmica.\n",
      "    · [temps_sup_interval(list)] - lista de dois elementos com as \n",
      "    temperaturas inferior e superior para os polinômios de condutividade \n",
      "    térmica. \n",
      "    \n",
      "    Retorna:\n",
      "    · ndarray ou float  de condutividades térmicas em W/m.K\n",
      "\n"
     ]
    }
   ],
   "source": [
    "help(mcp.cfcond_termica)"
   ]
  },
  {
   "cell_type": "markdown",
   "metadata": {},
   "source": [
    "A documentação de `testes` pode ser consultada de forma semelhante. No código abaixo a função de teste da condutividade térmica é consultada."
   ]
  },
  {
   "cell_type": "code",
   "execution_count": 3,
   "metadata": {},
   "outputs": [
    {
     "name": "stdout",
     "output_type": "stream",
     "text": [
      "Help on function teste_condterm in module marcelo_solver.testes:\n",
      "\n",
      "teste_condterm(teste)\n",
      "    Realiza testes de funcionamento na função de determinação do \n",
      "    coeficiente de condutividade térmica.\n",
      "    \n",
      "    1° - Teste de operação sobre vetor de temperaturas válidas:\n",
      "    Recebe:\n",
      "    teste = \"VECTEMP-VAL\"\n",
      "        Este método cria um vetor no intervalo de temperaturas válido para\n",
      "        para o modelo de coeficiente de condutividade térmica.\n",
      "        Espera-se o cálculo correto dos valores de h expressos de forma gráfica.\n",
      "    \n",
      "    2° - Teste de operação sobre vetor de temperaturas com valores inválidos:\n",
      "    teste = \"VECTEMP-INVAL\"\n",
      "        Este método cria um vetor com valores fora do intervalo de \n",
      "        temperaturas válido para para o modelo de coeficiente de \n",
      "        condutividade térmica.\n",
      "        Espera-se o levantamento de erro durante a tentativa de execuação.\n",
      "    \n",
      "    3° - Teste de operação sobre escalares randômicos válidos:\n",
      "    teste = \"RANDTEMP-VAL\"\n",
      "        Neste método de teste, um gerador de números aleatórios é \n",
      "        recorrentemente chamado para gerar N valores no intervalo de \n",
      "        operação da função.\n",
      "        Espera-se o cálculo correto dos valores de h expressos de forma gráfica.\n",
      "\n"
     ]
    }
   ],
   "source": [
    "help(mtt.teste_condterm)"
   ]
  },
  {
   "cell_type": "markdown",
   "metadata": {},
   "source": [
    "O conjunto de funções disponíveis em cada módulo pode ser listado da seguinte forma:"
   ]
  },
  {
   "cell_type": "code",
   "execution_count": 4,
   "metadata": {},
   "outputs": [
    {
     "name": "stdout",
     "output_type": "stream",
     "text": [
      "['__builtins__', '__cached__', '__doc__', '__file__', '__loader__', '__name__', '__package__', '__spec__', 'calesp_vol', 'cfcond_termica', 'np']\n",
      "['__builtins__', '__cached__', '__doc__', '__file__', '__loader__', '__name__', '__package__', '__spec__', 'calesp_vol', 'cfcond_termica', 'np', 'plt', 'teste_condterm', 'teste_cv']\n"
     ]
    }
   ],
   "source": [
    "print(dir(mcp))\n",
    "print(dir(mtt))\n"
   ]
  },
  {
   "cell_type": "markdown",
   "metadata": {},
   "source": [
    "## Uso da função `cfcond_termica`\n",
    "\n",
    "Duas formas de uso são possíveis; na primeira delas escalares com valores de temperatura são passados para a função e um escalar com o valor do coeficiente é retornado."
   ]
  },
  {
   "cell_type": "code",
   "execution_count": 5,
   "metadata": {},
   "outputs": [
    {
     "data": {
      "text/plain": [
       "53.105895"
      ]
     },
     "execution_count": 5,
     "metadata": {},
     "output_type": "execute_result"
    }
   ],
   "source": [
    "mcp.cfcond_termica(300, 'K') # Temperatura 300K"
   ]
  },
  {
   "cell_type": "markdown",
   "metadata": {},
   "source": [
    "Opcionalmente o usuário pode optar por passar o valor de temperatura em °C."
   ]
  },
  {
   "cell_type": "code",
   "execution_count": 6,
   "metadata": {},
   "outputs": [
    {
     "data": {
      "text/plain": [
       "53.105895"
      ]
     },
     "execution_count": 6,
     "metadata": {},
     "output_type": "execute_result"
    }
   ],
   "source": [
    "mcp.cfcond_termica(26.85, 'C') # Temperatura 26,85 °C"
   ]
  },
  {
   "cell_type": "markdown",
   "metadata": {},
   "source": [
    "O intervalo de validade do modelo do coeficiente de condutividade térmica também pode ser modificado pelos parâmetros `temps_inf_interval`, e `temps_sup_interval`. Neste tipo de uso, a chamada à função fica na forma:"
   ]
  },
  {
   "cell_type": "code",
   "execution_count": 7,
   "metadata": {},
   "outputs": [
    {
     "data": {
      "text/plain": [
       "53.334"
      ]
     },
     "execution_count": 7,
     "metadata": {},
     "output_type": "execute_result"
    }
   ],
   "source": [
    "mcp.cfcond_termica(\n",
    "    20, 'C', \n",
    "    temps_inf_interval = [14,30]\n",
    ")"
   ]
  },
  {
   "cell_type": "code",
   "execution_count": 8,
   "metadata": {
    "code_folding": []
   },
   "outputs": [
    {
     "name": "stdout",
     "output_type": "stream",
     "text": [
      "ERRO!\n",
      "A temperatura 13.0 não é definida no intervalo detemperaturas do modelo:\n",
      "[14. 30.]\n",
      "[ 800. 1515.]\n"
     ]
    }
   ],
   "source": [
    "try:\n",
    "    mcp.cfcond_termica(13,temps_inf_interval = [14,30])\n",
    "except Exception as e:\n",
    "    print(e)"
   ]
  },
  {
   "cell_type": "code",
   "execution_count": 9,
   "metadata": {},
   "outputs": [
    {
     "data": {
      "text/plain": [
       "27.3"
      ]
     },
     "execution_count": 9,
     "metadata": {},
     "output_type": "execute_result"
    }
   ],
   "source": [
    "mcp.cfcond_termica(\n",
    "    1999, 'C', \n",
    "    temps_sup_interval = [900,2000]\n",
    ")"
   ]
  },
  {
   "cell_type": "markdown",
   "metadata": {},
   "source": [
    "A segunda forma de uso da função recebe como primeiro argumento um vetor de temperaturas em K ou °C, sendo a primeira unidade o parâmetro padrão. Quando um vetor é passado, a função retorna um *array* de duas linhas, na primeira delas, um vetor com as temperaturas para cálculo, e na segunda os coenficientes calculados.\n",
    "\n",
    "Isto é necessário pois a implementação atual do método realiza a filtragem automática dos valores válidos de temperatura quando valores inválidos são passados, truncando o intervalo original de temperatura apenas para um intervalo válido."
   ]
  },
  {
   "cell_type": "code",
   "execution_count": 10,
   "metadata": {},
   "outputs": [
    {
     "name": "stdout",
     "output_type": "stream",
     "text": [
      "Temperaturas (K):\n",
      " [ 37.  38.  39.  40.  41.  42.  43.  44.  45.  46.  47.  48.  49.  50.\n",
      "  51.  52.  53.  54.  55.  56.  57.  58.  59.  60.  61.  62.  63.  64.\n",
      "  65.  66.  67.  68.  69.  70.  71.  72.  73.  74.  75.  76.  77.  78.\n",
      "  79.  80.  81.  82.  83.  84.  85.  86.  87.  88.  89.  90.  91.  92.\n",
      "  93.  94.  95.  96.  97.  98.  99. 100. 101. 102. 103. 104. 105. 106.\n",
      " 107. 108. 109. 110. 111. 112. 113. 114. 115. 116. 117. 118. 119. 120.\n",
      " 121. 122. 123. 124. 125. 126. 127. 128. 129. 130. 131. 132. 133. 134.\n",
      " 135. 136. 137. 138. 139. 140. 141. 142. 143. 144. 145. 146. 147. 148.\n",
      " 149. 150. 151. 152. 153. 154. 155. 156. 157. 158. 159. 160. 161. 162.\n",
      " 163. 164. 165. 166. 167. 168. 169. 170. 171. 172. 173. 174. 175. 176.\n",
      " 177. 178. 179. 180. 181. 182. 183. 184. 185. 186. 187. 188. 189. 190.\n",
      " 191. 192. 193. 194. 195. 196. 197. 198. 199. 200. 201. 202. 203. 204.\n",
      " 205. 206. 207. 208. 209. 210. 211. 212. 213. 214. 215. 216. 217. 218.\n",
      " 219. 220. 221. 222. 223. 224. 225. 226. 227. 228. 229. 230. 231. 232.\n",
      " 233. 234. 235. 236. 237. 238. 239. 240. 241. 242. 243. 244. 245. 246.\n",
      " 247. 248. 249. 250. 251. 252. 253. 254. 255. 256. 257. 258. 259. 260.\n",
      " 261. 262. 263. 264. 265. 266. 267. 268. 269. 270. 271. 272. 273. 274.\n",
      " 275. 276. 277. 278. 279. 280. 281. 282. 283. 284. 285. 286. 287. 288.\n",
      " 289. 290. 291. 292. 293. 294. 295. 296. 297. 298. 299. 300. 301. 302.\n",
      " 303. 304. 305. 306. 307. 308. 309. 310. 311. 312. 313. 314. 315. 316.\n",
      " 317. 318. 319. 320. 321. 322. 323. 324. 325. 326. 327. 328. 329. 330.\n",
      " 331. 332. 333. 334. 335. 336. 337. 338. 339. 340. 341. 342. 343. 344.\n",
      " 345. 346. 347. 348. 349. 350. 351. 352. 353. 354. 355. 356. 357. 358.\n",
      " 359. 360. 361. 362. 363. 364. 365. 366. 367. 368. 369. 370. 371. 372.\n",
      " 373. 374. 375. 376. 377. 378. 379. 380. 381. 382. 383. 384. 385. 386.\n",
      " 387. 388. 389. 390. 391. 392. 393. 394. 395. 396. 397. 398. 399. 400.\n",
      " 401. 402. 403. 404. 405. 406. 407. 408. 409. 410. 411. 412. 413. 414.\n",
      " 415. 416. 417. 418. 419. 420. 421. 422. 423. 424. 425. 426. 427. 428.\n",
      " 429. 430. 431. 432. 433. 434. 435. 436. 437. 438. 439. 440. 441. 442.\n",
      " 443. 444. 445. 446. 447. 448. 449. 450. 451. 452. 453. 454. 455. 456.\n",
      " 457. 458. 459. 460. 461. 462. 463. 464. 465. 466. 467. 468. 469. 470.\n",
      " 471. 472. 473. 474. 475. 476. 477. 478. 479. 480. 481. 482. 483. 484.\n",
      " 485. 486. 487. 488. 489. 490. 491. 492. 493. 494. 495. 496. 497. 498.\n",
      " 499.]\n"
     ]
    }
   ],
   "source": [
    "matriz = mcp.cfcond_termica(np.arange(37.,500.), 'c')\n",
    "print(\"Temperaturas (K):\\n\", matriz[0])"
   ]
  },
  {
   "cell_type": "code",
   "execution_count": 11,
   "metadata": {},
   "outputs": [
    {
     "name": "stdout",
     "output_type": "stream",
     "text": [
      "Coeficientes:\n",
      " [52.7679 52.7346 52.7013 52.668  52.6347 52.6014 52.5681 52.5348 52.5015\n",
      " 52.4682 52.4349 52.4016 52.3683 52.335  52.3017 52.2684 52.2351 52.2018\n",
      " 52.1685 52.1352 52.1019 52.0686 52.0353 52.002  51.9687 51.9354 51.9021\n",
      " 51.8688 51.8355 51.8022 51.7689 51.7356 51.7023 51.669  51.6357 51.6024\n",
      " 51.5691 51.5358 51.5025 51.4692 51.4359 51.4026 51.3693 51.336  51.3027\n",
      " 51.2694 51.2361 51.2028 51.1695 51.1362 51.1029 51.0696 51.0363 51.003\n",
      " 50.9697 50.9364 50.9031 50.8698 50.8365 50.8032 50.7699 50.7366 50.7033\n",
      " 50.67   50.6367 50.6034 50.5701 50.5368 50.5035 50.4702 50.4369 50.4036\n",
      " 50.3703 50.337  50.3037 50.2704 50.2371 50.2038 50.1705 50.1372 50.1039\n",
      " 50.0706 50.0373 50.004  49.9707 49.9374 49.9041 49.8708 49.8375 49.8042\n",
      " 49.7709 49.7376 49.7043 49.671  49.6377 49.6044 49.5711 49.5378 49.5045\n",
      " 49.4712 49.4379 49.4046 49.3713 49.338  49.3047 49.2714 49.2381 49.2048\n",
      " 49.1715 49.1382 49.1049 49.0716 49.0383 49.005  48.9717 48.9384 48.9051\n",
      " 48.8718 48.8385 48.8052 48.7719 48.7386 48.7053 48.672  48.6387 48.6054\n",
      " 48.5721 48.5388 48.5055 48.4722 48.4389 48.4056 48.3723 48.339  48.3057\n",
      " 48.2724 48.2391 48.2058 48.1725 48.1392 48.1059 48.0726 48.0393 48.006\n",
      " 47.9727 47.9394 47.9061 47.8728 47.8395 47.8062 47.7729 47.7396 47.7063\n",
      " 47.673  47.6397 47.6064 47.5731 47.5398 47.5065 47.4732 47.4399 47.4066\n",
      " 47.3733 47.34   47.3067 47.2734 47.2401 47.2068 47.1735 47.1402 47.1069\n",
      " 47.0736 47.0403 47.007  46.9737 46.9404 46.9071 46.8738 46.8405 46.8072\n",
      " 46.7739 46.7406 46.7073 46.674  46.6407 46.6074 46.5741 46.5408 46.5075\n",
      " 46.4742 46.4409 46.4076 46.3743 46.341  46.3077 46.2744 46.2411 46.2078\n",
      " 46.1745 46.1412 46.1079 46.0746 46.0413 46.008  45.9747 45.9414 45.9081\n",
      " 45.8748 45.8415 45.8082 45.7749 45.7416 45.7083 45.675  45.6417 45.6084\n",
      " 45.5751 45.5418 45.5085 45.4752 45.4419 45.4086 45.3753 45.342  45.3087\n",
      " 45.2754 45.2421 45.2088 45.1755 45.1422 45.1089 45.0756 45.0423 45.009\n",
      " 44.9757 44.9424 44.9091 44.8758 44.8425 44.8092 44.7759 44.7426 44.7093\n",
      " 44.676  44.6427 44.6094 44.5761 44.5428 44.5095 44.4762 44.4429 44.4096\n",
      " 44.3763 44.343  44.3097 44.2764 44.2431 44.2098 44.1765 44.1432 44.1099\n",
      " 44.0766 44.0433 44.01   43.9767 43.9434 43.9101 43.8768 43.8435 43.8102\n",
      " 43.7769 43.7436 43.7103 43.677  43.6437 43.6104 43.5771 43.5438 43.5105\n",
      " 43.4772 43.4439 43.4106 43.3773 43.344  43.3107 43.2774 43.2441 43.2108\n",
      " 43.1775 43.1442 43.1109 43.0776 43.0443 43.011  42.9777 42.9444 42.9111\n",
      " 42.8778 42.8445 42.8112 42.7779 42.7446 42.7113 42.678  42.6447 42.6114\n",
      " 42.5781 42.5448 42.5115 42.4782 42.4449 42.4116 42.3783 42.345  42.3117\n",
      " 42.2784 42.2451 42.2118 42.1785 42.1452 42.1119 42.0786 42.0453 42.012\n",
      " 41.9787 41.9454 41.9121 41.8788 41.8455 41.8122 41.7789 41.7456 41.7123\n",
      " 41.679  41.6457 41.6124 41.5791 41.5458 41.5125 41.4792 41.4459 41.4126\n",
      " 41.3793 41.346  41.3127 41.2794 41.2461 41.2128 41.1795 41.1462 41.1129\n",
      " 41.0796 41.0463 41.013  40.9797 40.9464 40.9131 40.8798 40.8465 40.8132\n",
      " 40.7799 40.7466 40.7133 40.68   40.6467 40.6134 40.5801 40.5468 40.5135\n",
      " 40.4802 40.4469 40.4136 40.3803 40.347  40.3137 40.2804 40.2471 40.2138\n",
      " 40.1805 40.1472 40.1139 40.0806 40.0473 40.014  39.9807 39.9474 39.9141\n",
      " 39.8808 39.8475 39.8142 39.7809 39.7476 39.7143 39.681  39.6477 39.6144\n",
      " 39.5811 39.5478 39.5145 39.4812 39.4479 39.4146 39.3813 39.348  39.3147\n",
      " 39.2814 39.2481 39.2148 39.1815 39.1482 39.1149 39.0816 39.0483 39.015\n",
      " 38.9817 38.9484 38.9151 38.8818 38.8485 38.8152 38.7819 38.7486 38.7153\n",
      " 38.682  38.6487 38.6154 38.5821 38.5488 38.5155 38.4822 38.4489 38.4156\n",
      " 38.3823 38.349  38.3157 38.2824 38.2491 38.2158 38.1825 38.1492 38.1159\n",
      " 38.0826 38.0493 38.016  37.9827 37.9494 37.9161 37.8828 37.8495 37.8162\n",
      " 37.7829 37.7496 37.7163 37.683  37.6497 37.6164 37.5831 37.5498 37.5165\n",
      " 37.4832 37.4499 37.4166 37.3833]\n"
     ]
    }
   ],
   "source": [
    "print(\"Coeficientes:\\n\", matriz[1])"
   ]
  },
  {
   "cell_type": "markdown",
   "metadata": {},
   "source": [
    "Note que por padrão, apenas temperaturas acima de 20°C são válidas. Note como a função realiza a truncagem de forma automatizada."
   ]
  },
  {
   "cell_type": "code",
   "execution_count": 12,
   "metadata": {},
   "outputs": [
    {
     "name": "stdout",
     "output_type": "stream",
     "text": [
      "Temperaturas (K):\n",
      " [20.46153846 21.        ]\n",
      "Coeficientes:\n",
      " [53.31863077 53.3007    ]\n"
     ]
    }
   ],
   "source": [
    "matriz = mcp.cfcond_termica(np.linspace(0.,21., 40), 'c') # Vetor de temperaturas entre 0 e 21°C com 40 elementos\n",
    "\n",
    "print(\"Temperaturas (K):\\n\", matriz[0])\n",
    "print(\"Coeficientes:\\n\", matriz[1])"
   ]
  },
  {
   "cell_type": "markdown",
   "metadata": {},
   "source": [
    "## Teste da função `cfcond_termica`\n",
    "\n",
    "### Teste de operação sobre um vetor de temperaturas válido\n",
    "\n",
    "Note que nenhuma personalização é aplicada ao gráfico, ficando ao critério do usuário fazê-lo. \n",
    "Os objetos retornados `fig` e `ax` são nativos do [Maplotlib](https://matplotlib.org/), onde a documentação para os métodos de [Axis](https://matplotlib.org/stable/api/axis_api.html) e [Figure](https://matplotlib.org/stable/api/figure_api.html#module-matplotlib.figure) podem ser consultadas."
   ]
  },
  {
   "cell_type": "code",
   "execution_count": 13,
   "metadata": {},
   "outputs": [
    {
     "name": "stdout",
     "output_type": "stream",
     "text": [
      "Testes na função cfcond_termica().\n"
     ]
    },
    {
     "data": {
      "image/png": "[encoded data removed]",
      "text/plain": [
       "<Figure size 640x480 with 1 Axes>"
      ]
     },
     "metadata": {},
     "output_type": "display_data"
    }
   ],
   "source": [
    "fig, ax = mtt.teste_condterm(\"VECTEMP-VAL\")\n",
    "ax.set_ylim(bottom=0)\n",
    "plt.show()"
   ]
  },
  {
   "cell_type": "markdown",
   "metadata": {},
   "source": [
    "### Teste de operação sobre um vetor de temperaturas parcialmente válido"
   ]
  },
  {
   "cell_type": "code",
   "execution_count": 14,
   "metadata": {},
   "outputs": [
    {
     "name": "stdout",
     "output_type": "stream",
     "text": [
      "Testes na função cfcond_termica().\n",
      "Testando um vetor de temperaturas entre 0.0 e 1999.9\n"
     ]
    },
    {
     "data": {
      "image/png": "[encoded data removed]",
      "text/plain": [
       "<Figure size 640x480 with 1 Axes>"
      ]
     },
     "metadata": {},
     "output_type": "display_data"
    }
   ],
   "source": [
    "fig, ax = mtt.teste_condterm(\"VECTEMP-PARC-INVAL\")\n",
    "ax.set_ylim(bottom=0)\n",
    "plt.show()"
   ]
  },
  {
   "cell_type": "markdown",
   "metadata": {},
   "source": [
    "### Teste de operação randômica"
   ]
  },
  {
   "cell_type": "code",
   "execution_count": 15,
   "metadata": {},
   "outputs": [
    {
     "name": "stdout",
     "output_type": "stream",
     "text": [
      "Testes na função cfcond_termica().\n"
     ]
    },
    {
     "data": {
      "image/png": "[encoded data removed]",
      "text/plain": [
       "<Figure size 640x480 with 1 Axes>"
      ]
     },
     "metadata": {},
     "output_type": "display_data"
    }
   ],
   "source": [
    "fig, ax = mtt.teste_condterm(\"RANDTEMP-VAL\")\n",
    "ax.set_ylim(bottom=0)\n",
    "plt.show()"
   ]
  },
  {
   "cell_type": "markdown",
   "metadata": {},
   "source": [
    "## Uso da função `calesp_vol`\n",
    "\n",
    "A interface de uso da função de determinação dos calores específicos volumares `calesp_vol` segue o padrão da anterior, conforme pode ser visto na documentação."
   ]
  },
  {
   "cell_type": "code",
   "execution_count": 16,
   "metadata": {},
   "outputs": [
    {
     "name": "stdout",
     "output_type": "stream",
     "text": [
      "Help on function calesp_vol in module marcelo_solver.coef_pol:\n",
      "\n",
      "calesp_vol(temp, unid='C', temps_itv_1=[20.0, 600.0], temps_itv_2=[600.0, 735.0], temps_itv_3=[735.0, 900.0], temps_itv_4=[900.0, 1515.0])\n",
      "    Determina o calor específico volumar para temperaturas (escalar)\n",
      "    ou vetores de temperaturas.\n",
      "    \n",
      "    Recebe:\n",
      "    · temp(float ou ndarray) - temperaturas de cálculo. \n",
      "    · [unid(str)] - caractere 'C' ou 'K' para determinar a unidade de \n",
      "    temperatura \n",
      "    · [temps_itv_1(list)] - lista de dois elementos com as \n",
      "    temperaturas inferior e superior para o primeiro polinômio de cv.\n",
      "    · [temps_itv_2(list)] - lista de dois elementos com as \n",
      "    temperaturas inferior e superior para o segundo polinômio de cv.\n",
      "    · [temps_itv_3(list)] - lista de dois elementos com as \n",
      "    temperaturas inferior e superior para o terceiro polinômio de cv.\n",
      "    · [temps_itv_4(list)] - lista de dois elementos com as \n",
      "    temperaturas inferior e superior para o quarto polinômio de cv.\n",
      "    \n",
      "    Retorna:\n",
      "    · ndarray ou float  de calores específicos volumares em J/kg.K\n",
      "\n"
     ]
    }
   ],
   "source": [
    "help(mcp.calesp_vol)"
   ]
  },
  {
   "cell_type": "markdown",
   "metadata": {},
   "source": [
    "Nas células abaixo a função é utilizada com os mesmos parâmetros empregados nos exemplos anteriores."
   ]
  },
  {
   "cell_type": "code",
   "execution_count": 17,
   "metadata": {},
   "outputs": [
    {
     "data": {
      "text/plain": [
       "444.4937189475425"
      ]
     },
     "execution_count": 17,
     "metadata": {},
     "output_type": "execute_result"
    }
   ],
   "source": [
    "mcp.calesp_vol(26.85) # Temperatura 26,85 °C"
   ]
  },
  {
   "cell_type": "code",
   "execution_count": 18,
   "metadata": {},
   "outputs": [
    {
     "data": {
      "text/plain": [
       "444.49371894754256"
      ]
     },
     "execution_count": 18,
     "metadata": {},
     "output_type": "execute_result"
    }
   ],
   "source": [
    "mcp.calesp_vol(300, 'K') # Temperatura 300K"
   ]
  },
  {
   "cell_type": "code",
   "execution_count": 19,
   "metadata": {},
   "outputs": [
    {
     "data": {
      "text/plain": [
       "439.76624"
      ]
     },
     "execution_count": 19,
     "metadata": {},
     "output_type": "execute_result"
    }
   ],
   "source": [
    "mcp.calesp_vol(20, temps_itv_1 = [14,30])"
   ]
  },
  {
   "cell_type": "code",
   "execution_count": 20,
   "metadata": {},
   "outputs": [
    {
     "name": "stdout",
     "output_type": "stream",
     "text": [
      "ERRO!\n",
      "A temperatura 13.0 não é definida no intervalo detemperaturas do modelo.\n"
     ]
    }
   ],
   "source": [
    "try:\n",
    "    mcp.calesp_vol(13,temps_itv_1 = [14,30])\n",
    "except Exception as e:\n",
    "    print(e)"
   ]
  },
  {
   "cell_type": "code",
   "execution_count": 21,
   "metadata": {},
   "outputs": [
    {
     "data": {
      "text/plain": [
       "-22516.38800778"
      ]
     },
     "execution_count": 21,
     "metadata": {},
     "output_type": "execute_result"
    }
   ],
   "source": [
    "mcp.calesp_vol(1999, temps_itv_1 = [900,2000])"
   ]
  },
  {
   "cell_type": "code",
   "execution_count": 22,
   "metadata": {},
   "outputs": [
    {
     "name": "stdout",
     "output_type": "stream",
     "text": [
      "Temperaturas (K):\n",
      " [ 37.  38.  39.  40.  41.  42.  43.  44.  45.  46.  47.  48.  49.  50.\n",
      "  51.  52.  53.  54.  55.  56.  57.  58.  59.  60.  61.  62.  63.  64.\n",
      "  65.  66.  67.  68.  69.  70.  71.  72.  73.  74.  75.  76.  77.  78.\n",
      "  79.  80.  81.  82.  83.  84.  85.  86.  87.  88.  89.  90.  91.  92.\n",
      "  93.  94.  95.  96.  97.  98.  99. 100. 101. 102. 103. 104. 105. 106.\n",
      " 107. 108. 109. 110. 111. 112. 113. 114. 115. 116. 117. 118. 119. 120.\n",
      " 121. 122. 123. 124. 125. 126. 127. 128. 129. 130. 131. 132. 133. 134.\n",
      " 135. 136. 137. 138. 139. 140. 141. 142. 143. 144. 145. 146. 147. 148.\n",
      " 149. 150. 151. 152. 153. 154. 155. 156. 157. 158. 159. 160. 161. 162.\n",
      " 163. 164. 165. 166. 167. 168. 169. 170. 171. 172. 173. 174. 175. 176.\n",
      " 177. 178. 179. 180. 181. 182. 183. 184. 185. 186. 187. 188. 189. 190.\n",
      " 191. 192. 193. 194. 195. 196. 197. 198. 199. 200. 201. 202. 203. 204.\n",
      " 205. 206. 207. 208. 209. 210. 211. 212. 213. 214. 215. 216. 217. 218.\n",
      " 219. 220. 221. 222. 223. 224. 225. 226. 227. 228. 229. 230. 231. 232.\n",
      " 233. 234. 235. 236. 237. 238. 239. 240. 241. 242. 243. 244. 245. 246.\n",
      " 247. 248. 249. 250. 251. 252. 253. 254. 255. 256. 257. 258. 259. 260.\n",
      " 261. 262. 263. 264. 265. 266. 267. 268. 269. 270. 271. 272. 273. 274.\n",
      " 275. 276. 277. 278. 279. 280. 281. 282. 283. 284. 285. 286. 287. 288.\n",
      " 289. 290. 291. 292. 293. 294. 295. 296. 297. 298. 299. 300. 301. 302.\n",
      " 303. 304. 305. 306. 307. 308. 309. 310. 311. 312. 313. 314. 315. 316.\n",
      " 317. 318. 319. 320. 321. 322. 323. 324. 325. 326. 327. 328. 329. 330.\n",
      " 331. 332. 333. 334. 335. 336. 337. 338. 339. 340. 341. 342. 343. 344.\n",
      " 345. 346. 347. 348. 349. 350. 351. 352. 353. 354. 355. 356. 357. 358.\n",
      " 359. 360. 361. 362. 363. 364. 365. 366. 367. 368. 369. 370. 371. 372.\n",
      " 373. 374. 375. 376. 377. 378. 379. 380. 381. 382. 383. 384. 385. 386.\n",
      " 387. 388. 389. 390. 391. 392. 393. 394. 395. 396. 397. 398. 399. 400.\n",
      " 401. 402. 403. 404. 405. 406. 407. 408. 409. 410. 411. 412. 413. 414.\n",
      " 415. 416. 417. 418. 419. 420. 421. 422. 423. 424. 425. 426. 427. 428.\n",
      " 429. 430. 431. 432. 433. 434. 435. 436. 437. 438. 439. 440. 441. 442.\n",
      " 443. 444. 445. 446. 447. 448. 449. 450. 451. 452. 453. 454. 455. 456.\n",
      " 457. 458. 459. 460. 461. 462. 463. 464. 465. 466. 467. 468. 469. 470.\n",
      " 471. 472. 473. 474. 475. 476. 477. 478. 479. 480. 481. 482. 483. 484.\n",
      " 485. 486. 487. 488. 489. 490. 491. 492. 493. 494. 495. 496. 497. 498.\n",
      " 499.]\n"
     ]
    }
   ],
   "source": [
    "matriz = mcp.calesp_vol(np.arange(37.,500.))\n",
    "print(\"Temperaturas (K):\\n\", matriz[0])"
   ]
  },
  {
   "cell_type": "code",
   "execution_count": 23,
   "metadata": {},
   "outputs": [
    {
     "name": "stdout",
     "output_type": "stream",
     "text": [
      "Coeficientes:\n",
      " [451.17494034 451.81182416 452.44482182 453.07392    453.69910538\n",
      " 454.32036464 454.93768446 455.55105152 456.1604525  456.76587408\n",
      " 457.36730294 457.96472576 458.55812922 459.1475     459.73282478\n",
      " 460.31409024 460.89128306 461.46438992 462.0333975  462.59829248\n",
      " 463.15906154 463.71569136 464.26816862 464.81648    465.36061218\n",
      " 465.90055184 466.43628566 466.96780032 467.4950825  468.01811888\n",
      " 468.53689614 469.05140096 469.56162002 470.06754    470.56914758\n",
      " 471.06642944 471.55937226 472.04796272 472.5321875  473.01203328\n",
      " 473.48748674 473.95853456 474.42516342 474.88736    475.34511098\n",
      " 475.79840304 476.24722286 476.69155712 477.1313925  477.56671568\n",
      " 477.99751334 478.42377216 478.84547882 479.26262    479.67518238\n",
      " 480.08315264 480.48651746 480.88526352 481.2793775  481.66884608\n",
      " 482.05365594 482.43379376 482.80924622 483.18       483.54604178\n",
      " 483.90735824 484.26393606 484.61576192 484.9628225  485.30510448\n",
      " 485.64259454 485.97527936 486.30314562 486.62618    486.94436918\n",
      " 487.25769984 487.56615866 487.86973232 488.1684075  488.46217088\n",
      " 488.75100914 489.03490896 489.31385702 489.58784    489.85684458\n",
      " 490.12085744 490.37986526 490.63385472 490.8828125  491.12672528\n",
      " 491.36557974 491.59936256 491.82806042 492.05166    492.27014798\n",
      " 492.48351104 492.69173586 492.89480912 493.0927175  493.28544768\n",
      " 493.47298634 493.65532016 493.83243582 494.00432    494.17095938\n",
      " 494.33234064 494.48845046 494.63927552 494.7848025  494.92501808\n",
      " 495.05990894 495.18946176 495.31366322 495.4325     495.54595878\n",
      " 495.65402624 495.75668906 495.85393392 495.9457475  496.03211648\n",
      " 496.11302754 496.18846736 496.25842262 496.32288    496.38182618\n",
      " 496.43524784 496.48313166 496.52546432 496.5622325  496.59342288\n",
      " 496.61902214 496.63901696 496.65339402 496.66214    496.66524158\n",
      " 496.66268544 496.65445826 496.64054672 496.6209375  496.59561728\n",
      " 496.56457274 496.52779056 496.48525742 496.43696    496.38288498\n",
      " 496.32301904 496.25734886 496.18586112 496.1085425  496.02537968\n",
      " 495.93635934 495.84146816 495.74069282 495.63402    495.52143638\n",
      " 495.40292864 495.27848346 495.14808752 495.0117275  494.86939008\n",
      " 494.72106194 494.56672976 494.40638022 494.24       494.06757578\n",
      " 493.88909424 493.70454206 493.51390592 493.3171725  493.11432848\n",
      " 492.90536054 492.69025536 492.46899962 492.24158    492.00798318\n",
      " 491.76819584 491.52220466 491.26999632 491.0115575  490.74687488\n",
      " 490.47593514 490.19872496 489.91523102 489.62544    489.32933858\n",
      " 489.02691344 488.71815126 488.40303872 488.0815625  487.75370928\n",
      " 487.41946574 487.07881856 486.73175442 486.37826    486.01832198\n",
      " 485.65192704 485.27906186 484.89971312 484.5138675  484.12151168\n",
      " 483.72263234 483.31721616 482.90524982 482.48672    482.06161338\n",
      " 481.62991664 481.19161646 480.74669952 480.2951525  479.83696208\n",
      " 479.37211494 478.90059776 478.42239722 477.9375     477.44589278\n",
      " 476.94756224 476.44249506 475.93067792 475.4120975  474.88674048\n",
      " 474.35459354 473.81564336 473.26987662 472.71728    472.15784018\n",
      " 471.59154384 471.01837766 470.43832832 469.8513825  469.25752688\n",
      " 468.65674814 468.04903296 467.43436802 466.81274    466.18413558\n",
      " 465.54854144 464.90594426 464.25633072 463.5996875  462.93600128\n",
      " 462.26525874 461.58744656 460.90255142 460.21056    459.51145898\n",
      " 458.80523504 458.09187486 457.37136512 456.6436925  455.90884368\n",
      " 455.16680534 454.41756416 453.66110682 452.89742    452.12649038\n",
      " 451.34830464 450.56284946 449.77011152 448.9700775  448.16273408\n",
      " 447.34806794 446.52606576 445.69671422 444.86       444.01590978\n",
      " 443.16443024 442.30554806 441.43924992 440.5655225  439.68435248\n",
      " 438.79572654 437.89963136 436.99605362 436.08498    435.16639718\n",
      " 434.24029184 433.30665066 432.36546032 431.4167075  430.46037888\n",
      " 429.49646114 428.52494096 427.54580502 426.55904    425.56463258\n",
      " 424.56256944 423.55283726 422.53542272 421.5103125  420.47749328\n",
      " 419.43695174 418.38867456 417.33264842 416.26886    415.19729598\n",
      " 414.11794304 413.03078786 411.93581712 410.8330175  409.72237568\n",
      " 408.60387834 407.47751216 406.34326382 405.20112    404.05106738\n",
      " 402.89309264 401.72718246 400.55332352 399.3715025  398.18170608\n",
      " 396.98392094 395.77813376 394.56433122 393.3425     392.11262678\n",
      " 390.87469824 389.62870106 388.37462192 387.1124475  385.84216448\n",
      " 384.56375954 383.27721936 381.98253062 380.67968    379.36865418\n",
      " 378.04943984 376.72202366 375.38639232 374.0425325  372.69043088\n",
      " 371.33007414 369.96144896 368.58454202 367.19934    365.80582958\n",
      " 364.40399744 362.99383026 361.57531472 360.1484375  358.71318528\n",
      " 357.26954474 355.81750256 354.35704542 352.88816    351.41083298\n",
      " 349.92505104 348.43080086 346.92806912 345.4168425  343.89710768\n",
      " 342.36885134 340.83206016 339.28672082 337.73282    336.17034438\n",
      " 334.59928064 333.01961546 331.43133552 329.8344275  328.22887808\n",
      " 326.61467394 324.99180176 323.36024822 321.72       320.07104378\n",
      " 318.41336624 316.74695406 315.07179392 313.3878725  311.69517648\n",
      " 309.99369254 308.28340736 306.56430762 304.83638    303.09961118\n",
      " 301.35398784 299.59949666 297.83612432 296.0638575  294.28268288\n",
      " 292.49258714 290.69355696 288.88557902 287.06864    285.24272658\n",
      " 283.40782544 281.56392326 279.71100672 277.8490625  275.97807728\n",
      " 274.09803774 272.20893056 270.31074242 268.40346    266.48706998\n",
      " 264.56155904 262.62691386 260.68312112 258.7301675  256.76803968\n",
      " 254.79672434 252.81620816 250.82647782 248.82752    246.81932138\n",
      " 244.80186864 242.77514846 240.73914752 238.6938525  236.63925008\n",
      " 234.57532694 232.50206976 230.41946522 228.3275     226.22616078\n",
      " 224.11543424 221.99530706 219.86576592 217.7267975  215.57838848\n",
      " 213.42052554 211.25319536 209.07638462 206.89008    204.69426818\n",
      " 202.48893584 200.27406966 198.04965632 195.8156825  193.57213488\n",
      " 191.31900014 189.05626496 186.78391602 184.50194    182.21032358\n",
      " 179.90905344 177.59811626 175.27749872 172.9471875  170.60716928\n",
      " 168.25743074 165.89795856 163.52873942 161.14976    158.76100698\n",
      " 156.36246704 153.95412686 151.53597312 149.1079925  146.67017168\n",
      " 144.22249734 141.76495616 139.29753482 136.82022    134.33299838\n",
      " 131.83585664 129.32878146 126.81175952 124.2847775  121.74782208\n",
      " 119.20087994 116.64393776 114.07698222]\n"
     ]
    }
   ],
   "source": [
    "print(\"Coeficientes:\\n\", matriz[1])"
   ]
  },
  {
   "cell_type": "code",
   "execution_count": 24,
   "metadata": {},
   "outputs": [
    {
     "name": "stdout",
     "output_type": "stream",
     "text": [
      "Temperaturas (K):\n",
      " [20.46153846 21.        ]\n",
      "Coeficientes:\n",
      " [440.0901911  440.46715058]\n"
     ]
    }
   ],
   "source": [
    "matriz = mcp.calesp_vol(np.linspace(0.,21., 40)) # Vetor de temperaturas entre 0 e 21°C com 40 elementos\n",
    "\n",
    "print(\"Temperaturas (K):\\n\", matriz[0])\n",
    "print(\"Coeficientes:\\n\", matriz[1])"
   ]
  },
  {
   "cell_type": "markdown",
   "metadata": {},
   "source": [
    "## Teste da função `calesp_vol`\n",
    "\n",
    "### Teste de operação sobre um vetor de temperaturas válido"
   ]
  },
  {
   "cell_type": "code",
   "execution_count": 31,
   "metadata": {},
   "outputs": [
    {
     "name": "stdout",
     "output_type": "stream",
     "text": [
      "Testes na função teste_cv().\n"
     ]
    },
    {
     "data": {
      "image/png": "[encoded data removed]",
      "text/plain": [
       "<Figure size 640x480 with 1 Axes>"
      ]
     },
     "metadata": {},
     "output_type": "display_data"
    }
   ],
   "source": [
    "fig, ax = mtt.teste_cv(\"VECTEMP-VAL\")"
   ]
  },
  {
   "cell_type": "markdown",
   "metadata": {},
   "source": [
    "### Teste de operação sobre um vetor de temperaturas parcialmente válido\n",
    "Note a truncagem do eixo horizontal."
   ]
  },
  {
   "cell_type": "code",
   "execution_count": 32,
   "metadata": {},
   "outputs": [
    {
     "name": "stdout",
     "output_type": "stream",
     "text": [
      "Testes na função teste_cv().\n",
      "Testando um vetor de temperaturas entre 0.0 e 1999.9\n"
     ]
    },
    {
     "data": {
      "image/png": "[encoded data removed]",
      "text/plain": [
       "<Figure size 640x480 with 1 Axes>"
      ]
     },
     "metadata": {},
     "output_type": "display_data"
    }
   ],
   "source": [
    "fig, ax = mtt.teste_cv(\"VECTEMP-PARC-INVAL\")"
   ]
  },
  {
   "cell_type": "markdown",
   "metadata": {},
   "source": [
    "### Teste de operação randômica "
   ]
  },
  {
   "cell_type": "code",
   "execution_count": 27,
   "metadata": {},
   "outputs": [
    {
     "name": "stdout",
     "output_type": "stream",
     "text": [
      "Testes na função teste_cv().\n"
     ]
    },
    {
     "data": {
      "image/png": "[encoded data removed]",
      "text/plain": [
       "<Figure size 640x480 with 1 Axes>"
      ]
     },
     "metadata": {},
     "output_type": "display_data"
    }
   ],
   "source": [
    "fig, ax = mtt.teste_cv(\"RANDTEMP-VAL\")"
   ]
  },
  {
   "cell_type": "code",
   "execution_count": 26,
   "metadata": {},
   "outputs": [
    {
     "data": {
      "text/plain": [
       "1164"
      ]
     },
     "execution_count": 26,
     "metadata": {},
     "output_type": "execute_result"
    }
   ],
   "source": []
  }
 ],
 "metadata": {
  "kernelspec": {
   "display_name": "Python 3 (ipykernel)",
   "language": "python",
   "name": "python3"
  },
  "language_info": {
   "codemirror_mode": {
    "name": "ipython",
    "version": 3
   },
   "file_extension": ".py",
   "mimetype": "text/x-python",
   "name": "python",
   "nbconvert_exporter": "python",
   "pygments_lexer": "ipython3",
   "version": "3.9.15"
  },
  "vscode": {
   "interpreter": {
    "hash": "bb4158b8629297ca0544f02399afc2b84b17698598cc597108eba54c058fa260"
   }
  }
 },
 "nbformat": 4,
 "nbformat_minor": 4
}
