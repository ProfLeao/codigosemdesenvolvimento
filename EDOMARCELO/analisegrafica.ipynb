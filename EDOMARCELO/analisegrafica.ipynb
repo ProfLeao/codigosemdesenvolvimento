{
 "cells": [
  {
   "cell_type": "markdown",
   "id": "eccc4ea1-7dd0-4600-9312-2b2cc158e65f",
   "metadata": {},
   "source": [
    "# Análise gráfica de resultados"
   ]
  },
  {
   "cell_type": "code",
   "execution_count": 6,
   "id": "b3f4b4ce-844c-442b-91ff-30a9ab481f39",
   "metadata": {},
   "outputs": [],
   "source": [
    "import pandas as pd #Para dataframes.\n",
    "import matplotlib.pyplot as plt #Para gráficos."
   ]
  },
  {
   "cell_type": "markdown",
   "id": "d4235b69-a10e-4b4b-a57a-1bc77ded5064",
   "metadata": {},
   "source": [
    "## Leitura dos dados"
   ]
  },
  {
   "cell_type": "code",
   "execution_count": 7,
   "id": "54db761a-4394-49d8-bfd0-6cda5f89f25b",
   "metadata": {},
   "outputs": [],
   "source": [
    "dados = pd.read_csv(\"dados.csv\")"
   ]
  },
  {
   "cell_type": "markdown",
   "id": "e19bd36b-55c2-4723-8418-7dc49725efda",
   "metadata": {},
   "source": [
    "Exibe e a forma de organização dos dados:\n",
    "\n",
    "**Primeiras cinco linhas.**"
   ]
  },
  {
   "cell_type": "code",
   "execution_count": 8,
   "id": "430ef590-91b7-4f58-9d3e-d0792a246c59",
   "metadata": {},
   "outputs": [
    {
     "data": {
      "text/html": [
       "<div>\n",
       "<style scoped>\n",
       "    .dataframe tbody tr th:only-of-type {\n",
       "        vertical-align: middle;\n",
       "    }\n",
       "\n",
       "    .dataframe tbody tr th {\n",
       "        vertical-align: top;\n",
       "    }\n",
       "\n",
       "    .dataframe thead th {\n",
       "        text-align: right;\n",
       "    }\n",
       "</style>\n",
       "<table border=\"1\" class=\"dataframe\">\n",
       "  <thead>\n",
       "    <tr style=\"text-align: right;\">\n",
       "      <th></th>\n",
       "      <th>Unnamed: 0</th>\n",
       "      <th>z</th>\n",
       "      <th>t</th>\n",
       "      <th>dtdz</th>\n",
       "    </tr>\n",
       "  </thead>\n",
       "  <tbody>\n",
       "    <tr>\n",
       "      <th>0</th>\n",
       "      <td>0</td>\n",
       "      <td>0.00</td>\n",
       "      <td>158.000000</td>\n",
       "      <td>1.443566e+06</td>\n",
       "    </tr>\n",
       "    <tr>\n",
       "      <th>1</th>\n",
       "      <td>1</td>\n",
       "      <td>0.01</td>\n",
       "      <td>159.587926</td>\n",
       "      <td>5.242461e-04</td>\n",
       "    </tr>\n",
       "    <tr>\n",
       "      <th>2</th>\n",
       "      <td>2</td>\n",
       "      <td>0.02</td>\n",
       "      <td>161.191812</td>\n",
       "      <td>5.313688e-04</td>\n",
       "    </tr>\n",
       "    <tr>\n",
       "      <th>3</th>\n",
       "      <td>3</td>\n",
       "      <td>0.03</td>\n",
       "      <td>162.811816</td>\n",
       "      <td>5.356941e-04</td>\n",
       "    </tr>\n",
       "    <tr>\n",
       "      <th>4</th>\n",
       "      <td>4</td>\n",
       "      <td>0.04</td>\n",
       "      <td>164.448102</td>\n",
       "      <td>5.415523e-04</td>\n",
       "    </tr>\n",
       "  </tbody>\n",
       "</table>\n",
       "</div>"
      ],
      "text/plain": [
       "   Unnamed: 0     z           t          dtdz\n",
       "0           0  0.00  158.000000  1.443566e+06\n",
       "1           1  0.01  159.587926  5.242461e-04\n",
       "2           2  0.02  161.191812  5.313688e-04\n",
       "3           3  0.03  162.811816  5.356941e-04\n",
       "4           4  0.04  164.448102  5.415523e-04"
      ]
     },
     "metadata": {},
     "output_type": "display_data"
    }
   ],
   "source": [
    "display(dados.head(5))"
   ]
  },
  {
   "cell_type": "markdown",
   "id": "01a9ded5-989c-4360-8220-7c5bf794ca62",
   "metadata": {},
   "source": [
    "**Últimas cinco linhas.**"
   ]
  },
  {
   "cell_type": "code",
   "execution_count": 9,
   "id": "efbcbf13-2c8c-495c-b696-155da4286a89",
   "metadata": {},
   "outputs": [
    {
     "data": {
      "text/html": [
       "<div>\n",
       "<style scoped>\n",
       "    .dataframe tbody tr th:only-of-type {\n",
       "        vertical-align: middle;\n",
       "    }\n",
       "\n",
       "    .dataframe tbody tr th {\n",
       "        vertical-align: top;\n",
       "    }\n",
       "\n",
       "    .dataframe thead th {\n",
       "        text-align: right;\n",
       "    }\n",
       "</style>\n",
       "<table border=\"1\" class=\"dataframe\">\n",
       "  <thead>\n",
       "    <tr style=\"text-align: right;\">\n",
       "      <th></th>\n",
       "      <th>Unnamed: 0</th>\n",
       "      <th>z</th>\n",
       "      <th>t</th>\n",
       "      <th>dtdz</th>\n",
       "    </tr>\n",
       "  </thead>\n",
       "  <tbody>\n",
       "    <tr>\n",
       "      <th>1</th>\n",
       "      <td>1</td>\n",
       "      <td>0.01</td>\n",
       "      <td>159.587926</td>\n",
       "      <td>0.000524</td>\n",
       "    </tr>\n",
       "    <tr>\n",
       "      <th>2</th>\n",
       "      <td>2</td>\n",
       "      <td>0.02</td>\n",
       "      <td>161.191812</td>\n",
       "      <td>0.000531</td>\n",
       "    </tr>\n",
       "    <tr>\n",
       "      <th>3</th>\n",
       "      <td>3</td>\n",
       "      <td>0.03</td>\n",
       "      <td>162.811816</td>\n",
       "      <td>0.000536</td>\n",
       "    </tr>\n",
       "    <tr>\n",
       "      <th>4</th>\n",
       "      <td>4</td>\n",
       "      <td>0.04</td>\n",
       "      <td>164.448102</td>\n",
       "      <td>0.000542</td>\n",
       "    </tr>\n",
       "    <tr>\n",
       "      <th>5</th>\n",
       "      <td>5</td>\n",
       "      <td>0.05</td>\n",
       "      <td>166.100833</td>\n",
       "      <td>0.000548</td>\n",
       "    </tr>\n",
       "  </tbody>\n",
       "</table>\n",
       "</div>"
      ],
      "text/plain": [
       "   Unnamed: 0     z           t      dtdz\n",
       "1           1  0.01  159.587926  0.000524\n",
       "2           2  0.02  161.191812  0.000531\n",
       "3           3  0.03  162.811816  0.000536\n",
       "4           4  0.04  164.448102  0.000542\n",
       "5           5  0.05  166.100833  0.000548"
      ]
     },
     "metadata": {},
     "output_type": "display_data"
    }
   ],
   "source": [
    "display(dados.tail(5))"
   ]
  },
  {
   "cell_type": "markdown",
   "id": "0a68f15f-79f3-41f3-b17f-dd007652c6a7",
   "metadata": {},
   "source": [
    "## Plotagem dos dados"
   ]
  },
  {
   "cell_type": "code",
   "execution_count": 16,
   "id": "d055a5af-9d94-4723-b338-0c4d021227df",
   "metadata": {},
   "outputs": [
    {
     "data": {
      "image/png": "[encoded data removed]",
      "text/plain": [
       "<Figure size 640x480 with 1 Axes>"
      ]
     },
     "metadata": {},
     "output_type": "display_data"
    }
   ],
   "source": [
    "plt.plot(dados.z, dados.t, 'kX')\n",
    "plt.grid()"
   ]
  },
  {
   "cell_type": "code",
   "execution_count": 18,
   "id": "286a2e9a-a315-4563-87fc-cb357b3fd95e",
   "metadata": {},
   "outputs": [
    {
     "data": {
      "text/plain": [
       "[<matplotlib.lines.Line2D at 0x7f5f3ae65e80>]"
      ]
     },
     "execution_count": 18,
     "metadata": {},
     "output_type": "execute_result"
    },
    {
     "data": {
      "image/png": "[encoded data removed]",
      "text/plain": [
       "<Figure size 640x480 with 1 Axes>"
      ]
     },
     "metadata": {},
     "output_type": "display_data"
    }
   ],
   "source": [
    "plt.plot(dados.t, dados.dtdz, 'bX')"
   ]
  },
  {
   "cell_type": "code",
   "execution_count": null,
   "id": "2f961fb0",
   "metadata": {},
   "outputs": [],
   "source": []
  }
 ],
 "metadata": {
  "kernelspec": {
   "display_name": "base",
   "language": "python",
   "name": "python3"
  },
  "language_info": {
   "codemirror_mode": {
    "name": "ipython",
    "version": 3
   },
   "file_extension": ".py",
   "mimetype": "text/x-python",
   "name": "python",
   "nbconvert_exporter": "python",
   "pygments_lexer": "ipython3",
   "version": "3.9.16"
  },
  "vscode": {
   "interpreter": {
    "hash": "bb4158b8629297ca0544f02399afc2b84b17698598cc597108eba54c058fa260"
   }
  }
 },
 "nbformat": 4,
 "nbformat_minor": 5
}
