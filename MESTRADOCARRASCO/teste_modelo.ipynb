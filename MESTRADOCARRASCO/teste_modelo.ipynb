{
 "cells": [
  {
   "cell_type": "markdown",
   "id": "314393c4-8967-4b12-b8c3-4726e20e25b4",
   "metadata": {},
   "source": [
    "Especificação de dados de funcionamento da planta"
   ]
  },
  {
   "cell_type": "code",
   "execution_count": 2,
   "id": "3edd653b-2c52-4205-8611-b24699fabf25",
   "metadata": {
    "tags": []
   },
   "outputs": [],
   "source": [
    "# Dados\n",
    "p_clq = 1500 # produção de clinquer toneladas/dia\n",
    "cce_min = 3440 # Consumo específico de energia mínimo kJ/kg\n",
    "cce_min = 3450 # Consumo específico de energia máximo kJ/kg"
   ]
  },
  {
   "cell_type": "markdown",
   "id": "a7305564-5a1d-448f-8388-3f14e451ee1c",
   "metadata": {},
   "source": [
    "Tabela de dados da composição do combustível"
   ]
  },
  {
   "cell_type": "code",
   "execution_count": null,
   "id": "adc81eae-b60a-4397-8726-cf62fae6ff39",
   "metadata": {},
   "outputs": [],
   "source": [
    "import pandas as pd\n",
    "\n",
    "componentes = ['C', 'H', 'S', 'O', 'N']\n",
    "comp_comb = {\n",
    "    \"petcoke\":[87.4, 3.81, 1.57, 5.15, ],\n",
    "    \"moinha_carv_veg\":,\n",
    "    \"blend_cdr\":,\n",
    "    \"peneu\":,\n",
    "    \"unidade\":\"% massa\"\n",
    "}"
   ]
  }
 ],
 "metadata": {
  "kernelspec": {
   "display_name": "Python 3 (ipykernel)",
   "language": "python",
   "name": "python3"
  },
  "language_info": {
   "codemirror_mode": {
    "name": "ipython",
    "version": 3
   },
   "file_extension": ".py",
   "mimetype": "text/x-python",
   "name": "python",
   "nbconvert_exporter": "python",
   "pygments_lexer": "ipython3",
   "version": "3.11.0"
  }
 },
 "nbformat": 4,
 "nbformat_minor": 5
}
